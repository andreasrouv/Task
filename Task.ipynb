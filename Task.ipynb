{
 "cells": [
  {
   "cell_type": "code",
   "execution_count": 1,
   "metadata": {},
   "outputs": [],
   "source": [
    "import pandas as pd\n",
    "\n",
    "from scipy.stats import f_oneway,levene,shapiro, kruskal\n",
    "import pingouin as pg\n",
    "\n",
    "from sklearn.feature_selection import RFECV\n",
    "from sklearn.model_selection import train_test_split\n",
    "from sklearn.svm import SVR, SVC\n",
    "from sklearn.preprocessing import LabelEncoder\n",
    "from sklearn.metrics import accuracy_score\n",
    "from sklearn.preprocessing import StandardScaler\n",
    "\n",
    "\n",
    "import matplotlib.pyplot as plt\n",
    "import seaborn as sns\n",
    "\n"
   ]
  },
  {
   "cell_type": "code",
   "execution_count": 2,
   "metadata": {},
   "outputs": [],
   "source": [
    "path_cz_pataka = \"czech_pataka.csv\"\n",
    "path_cz_spa = \"czech_spa.csv\"\n",
    "path_sp_pataka = \"spanish_pataka.csv\"\n",
    "path_sp_spa = \"spanish_spa.csv\""
   ]
  },
  {
   "cell_type": "code",
   "execution_count": 3,
   "metadata": {},
   "outputs": [],
   "source": [
    "class Reader:\n",
    "    def __init__(self, path):\n",
    "        \"\"\"\n",
    "        Initialize the Reader object with the specified file path.\n",
    "\n",
    "        Parameters:\n",
    "        - path (str): The path to the CSV file containing the data.\n",
    "        \"\"\"\n",
    "        self.path = path\n",
    "        self.data = self.read_file()\n",
    "        self.remove_empty_columns()\n",
    "        self.data_filled = self.fill_with_mean()\n",
    "        self.data_preprocessed = self.perform_data_specific_preprocessing()\n",
    "        self.add_status_column()\n",
    "        self.remove_string_columns()\n",
    "\n",
    "    def remove_empty_columns(self):\n",
    "        \"\"\"\n",
    "        Remove columns with more than 50% missing values.\n",
    "\n",
    "        \"\"\"\n",
    "        empty_rate = self.data.isnull().sum() / self.data.shape[0] * 100\n",
    "        columns_to_drop = empty_rate[empty_rate > 50].keys()\n",
    "        self.data = self.data.drop(columns=columns_to_drop)\n",
    "\n",
    "    def read_file(self):\n",
    "        \"\"\"\n",
    "        Read data from a CSV file into a pandas DataFrame.\n",
    "\n",
    "        Returns:\n",
    "        - DataFrame: The loaded data as a pandas DataFrame.\n",
    "        \"\"\"\n",
    "        return pd.read_csv(self.path)\n",
    "\n",
    "    def fill_with_mean(self):\n",
    "        \"\"\"\n",
    "        Fill missing numeric values with the mean of the respective column.\n",
    "\n",
    "        Returns:\n",
    "        - DataFrame: The data with missing values filled with column means.\n",
    "        \"\"\"\n",
    "        return self.data.fillna(self.data.mean(numeric_only=True))\n",
    "\n",
    "    def aggregate_samples(self):\n",
    "        \"\"\"\n",
    "        Aggregate samples by participant ID and compute the mean.\n",
    "\n",
    "        Returns:\n",
    "        - DataFrame: The aggregated data with means computed for each participant.\n",
    "        \"\"\"\n",
    "        return self.data_filled.groupby('participant_id').mean(numeric_only= True).reset_index()\n",
    "\n",
    "    def remove_second_attempt(self):\n",
    "        \"\"\"\n",
    "        Remove rows with 'repetition' column value equal to 'b'.\n",
    "\n",
    "        Returns:\n",
    "        - DataFrame: The data with rows where 'repetition' is 'b' removed.\n",
    "        \"\"\"\n",
    "        return self.data_filled[self.data_filled['repetition'] != 'b'].copy()\n",
    "\n",
    "    def perform_data_specific_preprocessing(self):\n",
    "        \"\"\"\n",
    "        Perform data-specific preprocessing based on the file path.\n",
    "\n",
    "        Returns:\n",
    "        - DataFrame: The preprocessed data.\n",
    "        \"\"\"\n",
    "        if 'czech_pataka' in self.path:\n",
    "            return self.remove_second_attempt()\n",
    "        elif 'spa' in self.path:\n",
    "            return self.aggregate_samples()\n",
    "        else:\n",
    "            return self.data_filled\n",
    "\n",
    "    def add_status_column(self):\n",
    "        \"\"\"\n",
    "        The 'status' column is assigned 'HC' if 'C' is in the participant ID, otherwise 'PD'.\n",
    "        \"\"\"\n",
    "        self.data_preprocessed['status'] = self.data_preprocessed['participant_id'].apply(lambda x: 'HC' if 'C' in x else 'PD')\n",
    "\n",
    "    def remove_string_columns(self):\n",
    "        \"\"\"\n",
    "        Remove specific string columns based on the file path.\n",
    "        \"\"\"\n",
    "        if 'czech_pataka' in self.path:\n",
    "            columns_to_remove = ['filename', 'repetition', 'participant_id']\n",
    "            self.data_preprocessed = self.data_preprocessed.drop(columns=columns_to_remove) \n",
    "        else:\n",
    "            self.data_preprocessed = self.data_preprocessed.drop(columns='participant_id') "
   ]
  },
  {
   "cell_type": "code",
   "execution_count": 4,
   "metadata": {},
   "outputs": [],
   "source": [
    "#Instantiate reader objects\n",
    "cz_pataka_reader = Reader(path_cz_pataka)\n",
    "cz_spa_reader = Reader(path_cz_spa)\n",
    "sp_pataka_reader = Reader(path_sp_pataka)\n",
    "sp_spa_reader = Reader(path_sp_spa)"
   ]
  },
  {
   "cell_type": "code",
   "execution_count": 5,
   "metadata": {},
   "outputs": [],
   "source": [
    "# Extracting preprocessed data \n",
    "cz_pataka = cz_pataka_reader.data_preprocessed\n",
    "cz_spa = cz_spa_reader.data_preprocessed\n",
    "sp_pataka= sp_pataka_reader.data_preprocessed \n",
    "sp_spa = sp_spa_reader.data_preprocessed "
   ]
  },
  {
   "cell_type": "code",
   "execution_count": 6,
   "metadata": {},
   "outputs": [
    {
     "data": {
      "text/html": [
       "<div>\n",
       "<style scoped>\n",
       "    .dataframe tbody tr th:only-of-type {\n",
       "        vertical-align: middle;\n",
       "    }\n",
       "\n",
       "    .dataframe tbody tr th {\n",
       "        vertical-align: top;\n",
       "    }\n",
       "\n",
       "    .dataframe thead th {\n",
       "        text-align: right;\n",
       "    }\n",
       "</style>\n",
       "<table border=\"1\" class=\"dataframe\">\n",
       "  <thead>\n",
       "    <tr style=\"text-align: right;\">\n",
       "      <th></th>\n",
       "      <th>average_time_between_vocalizations</th>\n",
       "      <th>cycle_to_cycle_variability</th>\n",
       "      <th>diadochokinetic_rate</th>\n",
       "      <th>early_relative_pace_stability</th>\n",
       "      <th>late_relative_pace_stability</th>\n",
       "      <th>pace_stability</th>\n",
       "      <th>resonant_frequency_attenuation</th>\n",
       "      <th>std_time_between_vocalizations</th>\n",
       "      <th>syllable_lengths_mean</th>\n",
       "      <th>syllable_lengths_sd</th>\n",
       "      <th>...</th>\n",
       "      <th>pitch_percentile_1</th>\n",
       "      <th>pitch_percentile_99</th>\n",
       "      <th>pitch_percentile_1_99_range</th>\n",
       "      <th>pitch_percentile_20</th>\n",
       "      <th>pitch_percentile_80</th>\n",
       "      <th>pitch_percentile_20_80_range</th>\n",
       "      <th>pitch_linear_regression_offset</th>\n",
       "      <th>pitch_linear_regression_slope</th>\n",
       "      <th>pitch_linear_regression_mse</th>\n",
       "      <th>status</th>\n",
       "    </tr>\n",
       "  </thead>\n",
       "  <tbody>\n",
       "    <tr>\n",
       "      <th>1</th>\n",
       "      <td>0.050286</td>\n",
       "      <td>0.012235</td>\n",
       "      <td>6.277245</td>\n",
       "      <td>186.328125</td>\n",
       "      <td>188.671875</td>\n",
       "      <td>63.584344</td>\n",
       "      <td>0.475023</td>\n",
       "      <td>0.007785</td>\n",
       "      <td>0.108889</td>\n",
       "      <td>0.010546</td>\n",
       "      <td>...</td>\n",
       "      <td>81.331660</td>\n",
       "      <td>115.062132</td>\n",
       "      <td>33.730472</td>\n",
       "      <td>88.032832</td>\n",
       "      <td>101.019007</td>\n",
       "      <td>12.986175</td>\n",
       "      <td>104.888567</td>\n",
       "      <td>-0.129823</td>\n",
       "      <td>28.124026</td>\n",
       "      <td>PD</td>\n",
       "    </tr>\n",
       "    <tr>\n",
       "      <th>2</th>\n",
       "      <td>0.050759</td>\n",
       "      <td>0.013474</td>\n",
       "      <td>5.542508</td>\n",
       "      <td>92.045455</td>\n",
       "      <td>108.238636</td>\n",
       "      <td>76.362875</td>\n",
       "      <td>0.582083</td>\n",
       "      <td>0.009916</td>\n",
       "      <td>0.128814</td>\n",
       "      <td>0.010383</td>\n",
       "      <td>...</td>\n",
       "      <td>110.643350</td>\n",
       "      <td>166.057606</td>\n",
       "      <td>55.414256</td>\n",
       "      <td>141.457073</td>\n",
       "      <td>155.558061</td>\n",
       "      <td>14.100988</td>\n",
       "      <td>147.422709</td>\n",
       "      <td>0.002093</td>\n",
       "      <td>94.582959</td>\n",
       "      <td>PD</td>\n",
       "    </tr>\n",
       "    <tr>\n",
       "      <th>3</th>\n",
       "      <td>0.042947</td>\n",
       "      <td>0.023784</td>\n",
       "      <td>6.351792</td>\n",
       "      <td>102.925532</td>\n",
       "      <td>104.521277</td>\n",
       "      <td>49.852658</td>\n",
       "      <td>0.628837</td>\n",
       "      <td>0.009784</td>\n",
       "      <td>0.118154</td>\n",
       "      <td>0.023653</td>\n",
       "      <td>...</td>\n",
       "      <td>114.929011</td>\n",
       "      <td>142.989805</td>\n",
       "      <td>28.060794</td>\n",
       "      <td>126.093922</td>\n",
       "      <td>134.624168</td>\n",
       "      <td>8.530246</td>\n",
       "      <td>138.149398</td>\n",
       "      <td>-0.120695</td>\n",
       "      <td>15.193928</td>\n",
       "      <td>PD</td>\n",
       "    </tr>\n",
       "    <tr>\n",
       "      <th>6</th>\n",
       "      <td>0.056552</td>\n",
       "      <td>0.044351</td>\n",
       "      <td>6.704545</td>\n",
       "      <td>182.142857</td>\n",
       "      <td>184.285714</td>\n",
       "      <td>385.976102</td>\n",
       "      <td>1.017593</td>\n",
       "      <td>0.046621</td>\n",
       "      <td>0.092203</td>\n",
       "      <td>0.015956</td>\n",
       "      <td>...</td>\n",
       "      <td>105.901558</td>\n",
       "      <td>153.431623</td>\n",
       "      <td>47.530065</td>\n",
       "      <td>124.718780</td>\n",
       "      <td>143.938259</td>\n",
       "      <td>19.219479</td>\n",
       "      <td>130.351300</td>\n",
       "      <td>0.046813</td>\n",
       "      <td>120.638700</td>\n",
       "      <td>HC</td>\n",
       "    </tr>\n",
       "    <tr>\n",
       "      <th>12</th>\n",
       "      <td>0.039314</td>\n",
       "      <td>0.014118</td>\n",
       "      <td>7.294833</td>\n",
       "      <td>135.576923</td>\n",
       "      <td>162.980769</td>\n",
       "      <td>111.235497</td>\n",
       "      <td>0.395652</td>\n",
       "      <td>0.009633</td>\n",
       "      <td>0.099111</td>\n",
       "      <td>0.010546</td>\n",
       "      <td>...</td>\n",
       "      <td>118.185037</td>\n",
       "      <td>159.854257</td>\n",
       "      <td>41.669219</td>\n",
       "      <td>138.972962</td>\n",
       "      <td>150.656564</td>\n",
       "      <td>11.683603</td>\n",
       "      <td>149.216415</td>\n",
       "      <td>-0.035758</td>\n",
       "      <td>72.361628</td>\n",
       "      <td>PD</td>\n",
       "    </tr>\n",
       "  </tbody>\n",
       "</table>\n",
       "<p>5 rows × 96 columns</p>\n",
       "</div>"
      ],
      "text/plain": [
       "    average_time_between_vocalizations  cycle_to_cycle_variability  \\\n",
       "1                             0.050286                    0.012235   \n",
       "2                             0.050759                    0.013474   \n",
       "3                             0.042947                    0.023784   \n",
       "6                             0.056552                    0.044351   \n",
       "12                            0.039314                    0.014118   \n",
       "\n",
       "    diadochokinetic_rate  early_relative_pace_stability  \\\n",
       "1               6.277245                     186.328125   \n",
       "2               5.542508                      92.045455   \n",
       "3               6.351792                     102.925532   \n",
       "6               6.704545                     182.142857   \n",
       "12              7.294833                     135.576923   \n",
       "\n",
       "    late_relative_pace_stability  pace_stability  \\\n",
       "1                     188.671875       63.584344   \n",
       "2                     108.238636       76.362875   \n",
       "3                     104.521277       49.852658   \n",
       "6                     184.285714      385.976102   \n",
       "12                    162.980769      111.235497   \n",
       "\n",
       "    resonant_frequency_attenuation  std_time_between_vocalizations  \\\n",
       "1                         0.475023                        0.007785   \n",
       "2                         0.582083                        0.009916   \n",
       "3                         0.628837                        0.009784   \n",
       "6                         1.017593                        0.046621   \n",
       "12                        0.395652                        0.009633   \n",
       "\n",
       "    syllable_lengths_mean  syllable_lengths_sd  ...  pitch_percentile_1  \\\n",
       "1                0.108889             0.010546  ...           81.331660   \n",
       "2                0.128814             0.010383  ...          110.643350   \n",
       "3                0.118154             0.023653  ...          114.929011   \n",
       "6                0.092203             0.015956  ...          105.901558   \n",
       "12               0.099111             0.010546  ...          118.185037   \n",
       "\n",
       "    pitch_percentile_99  pitch_percentile_1_99_range  pitch_percentile_20  \\\n",
       "1            115.062132                    33.730472            88.032832   \n",
       "2            166.057606                    55.414256           141.457073   \n",
       "3            142.989805                    28.060794           126.093922   \n",
       "6            153.431623                    47.530065           124.718780   \n",
       "12           159.854257                    41.669219           138.972962   \n",
       "\n",
       "    pitch_percentile_80  pitch_percentile_20_80_range  \\\n",
       "1            101.019007                     12.986175   \n",
       "2            155.558061                     14.100988   \n",
       "3            134.624168                      8.530246   \n",
       "6            143.938259                     19.219479   \n",
       "12           150.656564                     11.683603   \n",
       "\n",
       "    pitch_linear_regression_offset  pitch_linear_regression_slope  \\\n",
       "1                       104.888567                      -0.129823   \n",
       "2                       147.422709                       0.002093   \n",
       "3                       138.149398                      -0.120695   \n",
       "6                       130.351300                       0.046813   \n",
       "12                      149.216415                      -0.035758   \n",
       "\n",
       "    pitch_linear_regression_mse  status  \n",
       "1                     28.124026      PD  \n",
       "2                     94.582959      PD  \n",
       "3                     15.193928      PD  \n",
       "6                    120.638700      HC  \n",
       "12                    72.361628      PD  \n",
       "\n",
       "[5 rows x 96 columns]"
      ]
     },
     "execution_count": 6,
     "metadata": {},
     "output_type": "execute_result"
    }
   ],
   "source": [
    "cz_pataka.head()"
   ]
  },
  {
   "cell_type": "code",
   "execution_count": 7,
   "metadata": {},
   "outputs": [
    {
     "data": {
      "text/html": [
       "<div>\n",
       "<style scoped>\n",
       "    .dataframe tbody tr th:only-of-type {\n",
       "        vertical-align: middle;\n",
       "    }\n",
       "\n",
       "    .dataframe tbody tr th {\n",
       "        vertical-align: top;\n",
       "    }\n",
       "\n",
       "    .dataframe thead th {\n",
       "        text-align: right;\n",
       "    }\n",
       "</style>\n",
       "<table border=\"1\" class=\"dataframe\">\n",
       "  <thead>\n",
       "    <tr style=\"text-align: right;\">\n",
       "      <th></th>\n",
       "      <th>detrended_fluctuation_analysis</th>\n",
       "      <th>spectral_contrast_mean</th>\n",
       "      <th>spectral_contrast_sd</th>\n",
       "      <th>spectral_flatness_mean</th>\n",
       "      <th>spectral_flatness_sd</th>\n",
       "      <th>spectral_rolloff_mean</th>\n",
       "      <th>spectral_rolloff_sd</th>\n",
       "      <th>tonnetz_fifth_x_mean</th>\n",
       "      <th>tonnetz_fifth_x_sd</th>\n",
       "      <th>tonnetz_fifth_y_mean</th>\n",
       "      <th>...</th>\n",
       "      <th>pitch_percentile_1</th>\n",
       "      <th>pitch_percentile_99</th>\n",
       "      <th>pitch_percentile_1_99_range</th>\n",
       "      <th>pitch_percentile_20</th>\n",
       "      <th>pitch_percentile_80</th>\n",
       "      <th>pitch_percentile_20_80_range</th>\n",
       "      <th>pitch_linear_regression_offset</th>\n",
       "      <th>pitch_linear_regression_slope</th>\n",
       "      <th>pitch_linear_regression_mse</th>\n",
       "      <th>status</th>\n",
       "    </tr>\n",
       "  </thead>\n",
       "  <tbody>\n",
       "    <tr>\n",
       "      <th>0</th>\n",
       "      <td>0.299692</td>\n",
       "      <td>24.989471</td>\n",
       "      <td>5.074512</td>\n",
       "      <td>0.000422</td>\n",
       "      <td>0.000332</td>\n",
       "      <td>1232.730263</td>\n",
       "      <td>93.323418</td>\n",
       "      <td>-0.275389</td>\n",
       "      <td>0.140581</td>\n",
       "      <td>-0.074672</td>\n",
       "      <td>...</td>\n",
       "      <td>99.483410</td>\n",
       "      <td>105.041482</td>\n",
       "      <td>5.558071</td>\n",
       "      <td>100.923670</td>\n",
       "      <td>103.871640</td>\n",
       "      <td>2.947970</td>\n",
       "      <td>101.607560</td>\n",
       "      <td>0.032007</td>\n",
       "      <td>2.301533</td>\n",
       "      <td>HC</td>\n",
       "    </tr>\n",
       "    <tr>\n",
       "      <th>1</th>\n",
       "      <td>0.046325</td>\n",
       "      <td>28.125122</td>\n",
       "      <td>5.495117</td>\n",
       "      <td>0.000240</td>\n",
       "      <td>0.000528</td>\n",
       "      <td>1141.629464</td>\n",
       "      <td>176.776673</td>\n",
       "      <td>-0.005754</td>\n",
       "      <td>0.100593</td>\n",
       "      <td>-0.131166</td>\n",
       "      <td>...</td>\n",
       "      <td>114.693500</td>\n",
       "      <td>124.715453</td>\n",
       "      <td>10.021953</td>\n",
       "      <td>117.894347</td>\n",
       "      <td>121.720089</td>\n",
       "      <td>3.825742</td>\n",
       "      <td>118.912042</td>\n",
       "      <td>0.022863</td>\n",
       "      <td>4.913960</td>\n",
       "      <td>HC</td>\n",
       "    </tr>\n",
       "    <tr>\n",
       "      <th>2</th>\n",
       "      <td>0.107404</td>\n",
       "      <td>27.122793</td>\n",
       "      <td>6.764706</td>\n",
       "      <td>0.000700</td>\n",
       "      <td>0.000411</td>\n",
       "      <td>1321.595982</td>\n",
       "      <td>34.807456</td>\n",
       "      <td>-0.037470</td>\n",
       "      <td>0.161647</td>\n",
       "      <td>0.257062</td>\n",
       "      <td>...</td>\n",
       "      <td>136.540324</td>\n",
       "      <td>142.373577</td>\n",
       "      <td>5.833253</td>\n",
       "      <td>137.742184</td>\n",
       "      <td>141.151360</td>\n",
       "      <td>3.409176</td>\n",
       "      <td>139.778329</td>\n",
       "      <td>-0.020548</td>\n",
       "      <td>2.922922</td>\n",
       "      <td>HC</td>\n",
       "    </tr>\n",
       "    <tr>\n",
       "      <th>3</th>\n",
       "      <td>0.031541</td>\n",
       "      <td>26.796303</td>\n",
       "      <td>5.367014</td>\n",
       "      <td>0.000323</td>\n",
       "      <td>0.000167</td>\n",
       "      <td>1347.377232</td>\n",
       "      <td>158.216544</td>\n",
       "      <td>0.079426</td>\n",
       "      <td>0.130501</td>\n",
       "      <td>-0.190828</td>\n",
       "      <td>...</td>\n",
       "      <td>181.695354</td>\n",
       "      <td>204.616930</td>\n",
       "      <td>22.921577</td>\n",
       "      <td>184.895827</td>\n",
       "      <td>188.177820</td>\n",
       "      <td>3.281993</td>\n",
       "      <td>188.985752</td>\n",
       "      <td>-0.043977</td>\n",
       "      <td>16.837498</td>\n",
       "      <td>HC</td>\n",
       "    </tr>\n",
       "    <tr>\n",
       "      <th>4</th>\n",
       "      <td>0.048381</td>\n",
       "      <td>25.341648</td>\n",
       "      <td>6.365405</td>\n",
       "      <td>0.000123</td>\n",
       "      <td>0.000081</td>\n",
       "      <td>932.366071</td>\n",
       "      <td>66.537119</td>\n",
       "      <td>0.075730</td>\n",
       "      <td>0.038875</td>\n",
       "      <td>0.403558</td>\n",
       "      <td>...</td>\n",
       "      <td>122.037849</td>\n",
       "      <td>131.898128</td>\n",
       "      <td>9.860279</td>\n",
       "      <td>127.770935</td>\n",
       "      <td>129.845153</td>\n",
       "      <td>2.074219</td>\n",
       "      <td>127.650282</td>\n",
       "      <td>0.009527</td>\n",
       "      <td>2.740420</td>\n",
       "      <td>HC</td>\n",
       "    </tr>\n",
       "  </tbody>\n",
       "</table>\n",
       "<p>5 rows × 104 columns</p>\n",
       "</div>"
      ],
      "text/plain": [
       "   detrended_fluctuation_analysis  spectral_contrast_mean  \\\n",
       "0                        0.299692               24.989471   \n",
       "1                        0.046325               28.125122   \n",
       "2                        0.107404               27.122793   \n",
       "3                        0.031541               26.796303   \n",
       "4                        0.048381               25.341648   \n",
       "\n",
       "   spectral_contrast_sd  spectral_flatness_mean  spectral_flatness_sd  \\\n",
       "0              5.074512                0.000422              0.000332   \n",
       "1              5.495117                0.000240              0.000528   \n",
       "2              6.764706                0.000700              0.000411   \n",
       "3              5.367014                0.000323              0.000167   \n",
       "4              6.365405                0.000123              0.000081   \n",
       "\n",
       "   spectral_rolloff_mean  spectral_rolloff_sd  tonnetz_fifth_x_mean  \\\n",
       "0            1232.730263            93.323418             -0.275389   \n",
       "1            1141.629464           176.776673             -0.005754   \n",
       "2            1321.595982            34.807456             -0.037470   \n",
       "3            1347.377232           158.216544              0.079426   \n",
       "4             932.366071            66.537119              0.075730   \n",
       "\n",
       "   tonnetz_fifth_x_sd  tonnetz_fifth_y_mean  ...  pitch_percentile_1  \\\n",
       "0            0.140581             -0.074672  ...           99.483410   \n",
       "1            0.100593             -0.131166  ...          114.693500   \n",
       "2            0.161647              0.257062  ...          136.540324   \n",
       "3            0.130501             -0.190828  ...          181.695354   \n",
       "4            0.038875              0.403558  ...          122.037849   \n",
       "\n",
       "   pitch_percentile_99  pitch_percentile_1_99_range  pitch_percentile_20  \\\n",
       "0           105.041482                     5.558071           100.923670   \n",
       "1           124.715453                    10.021953           117.894347   \n",
       "2           142.373577                     5.833253           137.742184   \n",
       "3           204.616930                    22.921577           184.895827   \n",
       "4           131.898128                     9.860279           127.770935   \n",
       "\n",
       "   pitch_percentile_80  pitch_percentile_20_80_range  \\\n",
       "0           103.871640                      2.947970   \n",
       "1           121.720089                      3.825742   \n",
       "2           141.151360                      3.409176   \n",
       "3           188.177820                      3.281993   \n",
       "4           129.845153                      2.074219   \n",
       "\n",
       "   pitch_linear_regression_offset  pitch_linear_regression_slope  \\\n",
       "0                      101.607560                       0.032007   \n",
       "1                      118.912042                       0.022863   \n",
       "2                      139.778329                      -0.020548   \n",
       "3                      188.985752                      -0.043977   \n",
       "4                      127.650282                       0.009527   \n",
       "\n",
       "   pitch_linear_regression_mse  status  \n",
       "0                     2.301533      HC  \n",
       "1                     4.913960      HC  \n",
       "2                     2.922922      HC  \n",
       "3                    16.837498      HC  \n",
       "4                     2.740420      HC  \n",
       "\n",
       "[5 rows x 104 columns]"
      ]
     },
     "execution_count": 7,
     "metadata": {},
     "output_type": "execute_result"
    }
   ],
   "source": [
    "cz_spa.head()"
   ]
  },
  {
   "cell_type": "code",
   "execution_count": 8,
   "metadata": {},
   "outputs": [
    {
     "data": {
      "text/html": [
       "<div>\n",
       "<style scoped>\n",
       "    .dataframe tbody tr th:only-of-type {\n",
       "        vertical-align: middle;\n",
       "    }\n",
       "\n",
       "    .dataframe tbody tr th {\n",
       "        vertical-align: top;\n",
       "    }\n",
       "\n",
       "    .dataframe thead th {\n",
       "        text-align: right;\n",
       "    }\n",
       "</style>\n",
       "<table border=\"1\" class=\"dataframe\">\n",
       "  <thead>\n",
       "    <tr style=\"text-align: right;\">\n",
       "      <th></th>\n",
       "      <th>detrended_fluctuation_analysis</th>\n",
       "      <th>spectral_contrast_mean</th>\n",
       "      <th>spectral_contrast_sd</th>\n",
       "      <th>spectral_flatness_mean</th>\n",
       "      <th>spectral_flatness_sd</th>\n",
       "      <th>spectral_rolloff_mean</th>\n",
       "      <th>spectral_rolloff_sd</th>\n",
       "      <th>tonnetz_fifth_x_mean</th>\n",
       "      <th>tonnetz_fifth_x_sd</th>\n",
       "      <th>tonnetz_fifth_y_mean</th>\n",
       "      <th>...</th>\n",
       "      <th>pitch_percentile_1</th>\n",
       "      <th>pitch_percentile_99</th>\n",
       "      <th>pitch_percentile_1_99_range</th>\n",
       "      <th>pitch_percentile_20</th>\n",
       "      <th>pitch_percentile_80</th>\n",
       "      <th>pitch_percentile_20_80_range</th>\n",
       "      <th>pitch_linear_regression_offset</th>\n",
       "      <th>pitch_linear_regression_slope</th>\n",
       "      <th>pitch_linear_regression_mse</th>\n",
       "      <th>status</th>\n",
       "    </tr>\n",
       "  </thead>\n",
       "  <tbody>\n",
       "    <tr>\n",
       "      <th>0</th>\n",
       "      <td>0.048824</td>\n",
       "      <td>21.842929</td>\n",
       "      <td>4.780769</td>\n",
       "      <td>0.003414</td>\n",
       "      <td>0.001837</td>\n",
       "      <td>1897.509657</td>\n",
       "      <td>279.451829</td>\n",
       "      <td>0.021423</td>\n",
       "      <td>0.110102</td>\n",
       "      <td>-0.065132</td>\n",
       "      <td>...</td>\n",
       "      <td>92.394716</td>\n",
       "      <td>97.549030</td>\n",
       "      <td>5.154314</td>\n",
       "      <td>93.415386</td>\n",
       "      <td>95.655534</td>\n",
       "      <td>2.240148</td>\n",
       "      <td>94.936368</td>\n",
       "      <td>-0.019957</td>\n",
       "      <td>2.015066</td>\n",
       "      <td>PD</td>\n",
       "    </tr>\n",
       "    <tr>\n",
       "      <th>1</th>\n",
       "      <td>0.030530</td>\n",
       "      <td>22.613530</td>\n",
       "      <td>5.440254</td>\n",
       "      <td>0.005727</td>\n",
       "      <td>0.002000</td>\n",
       "      <td>2763.307267</td>\n",
       "      <td>156.996823</td>\n",
       "      <td>-0.061017</td>\n",
       "      <td>0.284849</td>\n",
       "      <td>-0.039469</td>\n",
       "      <td>...</td>\n",
       "      <td>204.966724</td>\n",
       "      <td>214.705877</td>\n",
       "      <td>9.739153</td>\n",
       "      <td>207.455893</td>\n",
       "      <td>211.339950</td>\n",
       "      <td>3.884056</td>\n",
       "      <td>208.069904</td>\n",
       "      <td>0.084165</td>\n",
       "      <td>4.557776</td>\n",
       "      <td>PD</td>\n",
       "    </tr>\n",
       "    <tr>\n",
       "      <th>2</th>\n",
       "      <td>0.023505</td>\n",
       "      <td>19.800739</td>\n",
       "      <td>4.535411</td>\n",
       "      <td>0.015232</td>\n",
       "      <td>0.008110</td>\n",
       "      <td>3914.339158</td>\n",
       "      <td>335.903978</td>\n",
       "      <td>-0.005286</td>\n",
       "      <td>0.165985</td>\n",
       "      <td>-0.007295</td>\n",
       "      <td>...</td>\n",
       "      <td>133.798932</td>\n",
       "      <td>258.135331</td>\n",
       "      <td>124.336399</td>\n",
       "      <td>183.094986</td>\n",
       "      <td>232.655875</td>\n",
       "      <td>49.560889</td>\n",
       "      <td>209.764795</td>\n",
       "      <td>-0.138173</td>\n",
       "      <td>1146.079601</td>\n",
       "      <td>PD</td>\n",
       "    </tr>\n",
       "    <tr>\n",
       "      <th>3</th>\n",
       "      <td>0.029010</td>\n",
       "      <td>25.295731</td>\n",
       "      <td>6.011520</td>\n",
       "      <td>0.000386</td>\n",
       "      <td>0.000121</td>\n",
       "      <td>1528.980655</td>\n",
       "      <td>198.514243</td>\n",
       "      <td>-0.387065</td>\n",
       "      <td>0.111094</td>\n",
       "      <td>-0.034471</td>\n",
       "      <td>...</td>\n",
       "      <td>144.670106</td>\n",
       "      <td>149.857146</td>\n",
       "      <td>5.187040</td>\n",
       "      <td>146.507332</td>\n",
       "      <td>148.432409</td>\n",
       "      <td>1.925077</td>\n",
       "      <td>147.074887</td>\n",
       "      <td>0.003491</td>\n",
       "      <td>1.304331</td>\n",
       "      <td>PD</td>\n",
       "    </tr>\n",
       "    <tr>\n",
       "      <th>4</th>\n",
       "      <td>0.019000</td>\n",
       "      <td>25.269169</td>\n",
       "      <td>6.411048</td>\n",
       "      <td>0.002154</td>\n",
       "      <td>0.001376</td>\n",
       "      <td>2417.447917</td>\n",
       "      <td>335.582013</td>\n",
       "      <td>0.007061</td>\n",
       "      <td>0.196167</td>\n",
       "      <td>-0.010311</td>\n",
       "      <td>...</td>\n",
       "      <td>132.760626</td>\n",
       "      <td>241.620888</td>\n",
       "      <td>108.860262</td>\n",
       "      <td>155.391854</td>\n",
       "      <td>184.739094</td>\n",
       "      <td>29.347239</td>\n",
       "      <td>195.667458</td>\n",
       "      <td>-0.699670</td>\n",
       "      <td>249.875571</td>\n",
       "      <td>PD</td>\n",
       "    </tr>\n",
       "  </tbody>\n",
       "</table>\n",
       "<p>5 rows × 104 columns</p>\n",
       "</div>"
      ],
      "text/plain": [
       "   detrended_fluctuation_analysis  spectral_contrast_mean  \\\n",
       "0                        0.048824               21.842929   \n",
       "1                        0.030530               22.613530   \n",
       "2                        0.023505               19.800739   \n",
       "3                        0.029010               25.295731   \n",
       "4                        0.019000               25.269169   \n",
       "\n",
       "   spectral_contrast_sd  spectral_flatness_mean  spectral_flatness_sd  \\\n",
       "0              4.780769                0.003414              0.001837   \n",
       "1              5.440254                0.005727              0.002000   \n",
       "2              4.535411                0.015232              0.008110   \n",
       "3              6.011520                0.000386              0.000121   \n",
       "4              6.411048                0.002154              0.001376   \n",
       "\n",
       "   spectral_rolloff_mean  spectral_rolloff_sd  tonnetz_fifth_x_mean  \\\n",
       "0            1897.509657           279.451829              0.021423   \n",
       "1            2763.307267           156.996823             -0.061017   \n",
       "2            3914.339158           335.903978             -0.005286   \n",
       "3            1528.980655           198.514243             -0.387065   \n",
       "4            2417.447917           335.582013              0.007061   \n",
       "\n",
       "   tonnetz_fifth_x_sd  tonnetz_fifth_y_mean  ...  pitch_percentile_1  \\\n",
       "0            0.110102             -0.065132  ...           92.394716   \n",
       "1            0.284849             -0.039469  ...          204.966724   \n",
       "2            0.165985             -0.007295  ...          133.798932   \n",
       "3            0.111094             -0.034471  ...          144.670106   \n",
       "4            0.196167             -0.010311  ...          132.760626   \n",
       "\n",
       "   pitch_percentile_99  pitch_percentile_1_99_range  pitch_percentile_20  \\\n",
       "0            97.549030                     5.154314            93.415386   \n",
       "1           214.705877                     9.739153           207.455893   \n",
       "2           258.135331                   124.336399           183.094986   \n",
       "3           149.857146                     5.187040           146.507332   \n",
       "4           241.620888                   108.860262           155.391854   \n",
       "\n",
       "   pitch_percentile_80  pitch_percentile_20_80_range  \\\n",
       "0            95.655534                      2.240148   \n",
       "1           211.339950                      3.884056   \n",
       "2           232.655875                     49.560889   \n",
       "3           148.432409                      1.925077   \n",
       "4           184.739094                     29.347239   \n",
       "\n",
       "   pitch_linear_regression_offset  pitch_linear_regression_slope  \\\n",
       "0                       94.936368                      -0.019957   \n",
       "1                      208.069904                       0.084165   \n",
       "2                      209.764795                      -0.138173   \n",
       "3                      147.074887                       0.003491   \n",
       "4                      195.667458                      -0.699670   \n",
       "\n",
       "   pitch_linear_regression_mse  status  \n",
       "0                     2.015066      PD  \n",
       "1                     4.557776      PD  \n",
       "2                  1146.079601      PD  \n",
       "3                     1.304331      PD  \n",
       "4                   249.875571      PD  \n",
       "\n",
       "[5 rows x 104 columns]"
      ]
     },
     "execution_count": 8,
     "metadata": {},
     "output_type": "execute_result"
    }
   ],
   "source": [
    "sp_spa.head()"
   ]
  },
  {
   "cell_type": "code",
   "execution_count": 9,
   "metadata": {},
   "outputs": [
    {
     "data": {
      "text/html": [
       "<div>\n",
       "<style scoped>\n",
       "    .dataframe tbody tr th:only-of-type {\n",
       "        vertical-align: middle;\n",
       "    }\n",
       "\n",
       "    .dataframe tbody tr th {\n",
       "        vertical-align: top;\n",
       "    }\n",
       "\n",
       "    .dataframe thead th {\n",
       "        text-align: right;\n",
       "    }\n",
       "</style>\n",
       "<table border=\"1\" class=\"dataframe\">\n",
       "  <thead>\n",
       "    <tr style=\"text-align: right;\">\n",
       "      <th></th>\n",
       "      <th>average_time_between_vocalizations</th>\n",
       "      <th>cycle_to_cycle_variability</th>\n",
       "      <th>diadochokinetic_rate</th>\n",
       "      <th>early_relative_pace_stability</th>\n",
       "      <th>late_relative_pace_stability</th>\n",
       "      <th>pace_stability</th>\n",
       "      <th>resonant_frequency_attenuation</th>\n",
       "      <th>std_time_between_vocalizations</th>\n",
       "      <th>syllable_lengths_mean</th>\n",
       "      <th>syllable_lengths_sd</th>\n",
       "      <th>...</th>\n",
       "      <th>pitch_percentile_1</th>\n",
       "      <th>pitch_percentile_99</th>\n",
       "      <th>pitch_percentile_1_99_range</th>\n",
       "      <th>pitch_percentile_20</th>\n",
       "      <th>pitch_percentile_80</th>\n",
       "      <th>pitch_percentile_20_80_range</th>\n",
       "      <th>pitch_linear_regression_offset</th>\n",
       "      <th>pitch_linear_regression_slope</th>\n",
       "      <th>pitch_linear_regression_mse</th>\n",
       "      <th>status</th>\n",
       "    </tr>\n",
       "  </thead>\n",
       "  <tbody>\n",
       "    <tr>\n",
       "      <th>0</th>\n",
       "      <td>0.067429</td>\n",
       "      <td>0.105846</td>\n",
       "      <td>4.601227</td>\n",
       "      <td>106.611196</td>\n",
       "      <td>123.415666</td>\n",
       "      <td>132.225978</td>\n",
       "      <td>0.776220</td>\n",
       "      <td>0.028480</td>\n",
       "      <td>0.154667</td>\n",
       "      <td>0.058033</td>\n",
       "      <td>...</td>\n",
       "      <td>86.041623</td>\n",
       "      <td>129.959478</td>\n",
       "      <td>43.917855</td>\n",
       "      <td>93.192355</td>\n",
       "      <td>127.906878</td>\n",
       "      <td>34.714523</td>\n",
       "      <td>110.281661</td>\n",
       "      <td>-0.056694</td>\n",
       "      <td>231.745100</td>\n",
       "      <td>PD</td>\n",
       "    </tr>\n",
       "    <tr>\n",
       "      <th>1</th>\n",
       "      <td>0.128640</td>\n",
       "      <td>0.199333</td>\n",
       "      <td>4.213938</td>\n",
       "      <td>106.611196</td>\n",
       "      <td>123.415666</td>\n",
       "      <td>132.225978</td>\n",
       "      <td>0.404038</td>\n",
       "      <td>0.195566</td>\n",
       "      <td>0.120000</td>\n",
       "      <td>0.049861</td>\n",
       "      <td>...</td>\n",
       "      <td>181.067337</td>\n",
       "      <td>253.708237</td>\n",
       "      <td>72.640900</td>\n",
       "      <td>199.057340</td>\n",
       "      <td>247.550722</td>\n",
       "      <td>48.493382</td>\n",
       "      <td>228.203941</td>\n",
       "      <td>-0.032585</td>\n",
       "      <td>527.382335</td>\n",
       "      <td>PD</td>\n",
       "    </tr>\n",
       "    <tr>\n",
       "      <th>2</th>\n",
       "      <td>0.164000</td>\n",
       "      <td>0.160000</td>\n",
       "      <td>2.931596</td>\n",
       "      <td>106.611196</td>\n",
       "      <td>123.415666</td>\n",
       "      <td>132.225978</td>\n",
       "      <td>0.992755</td>\n",
       "      <td>0.134996</td>\n",
       "      <td>0.195556</td>\n",
       "      <td>0.028995</td>\n",
       "      <td>...</td>\n",
       "      <td>77.943088</td>\n",
       "      <td>261.215998</td>\n",
       "      <td>183.272910</td>\n",
       "      <td>90.219380</td>\n",
       "      <td>240.210796</td>\n",
       "      <td>149.991415</td>\n",
       "      <td>149.859912</td>\n",
       "      <td>0.283360</td>\n",
       "      <td>3754.582015</td>\n",
       "      <td>PD</td>\n",
       "    </tr>\n",
       "    <tr>\n",
       "      <th>3</th>\n",
       "      <td>0.033000</td>\n",
       "      <td>0.029867</td>\n",
       "      <td>6.692913</td>\n",
       "      <td>106.611196</td>\n",
       "      <td>123.415666</td>\n",
       "      <td>132.225978</td>\n",
       "      <td>0.916420</td>\n",
       "      <td>0.010536</td>\n",
       "      <td>0.115765</td>\n",
       "      <td>0.055025</td>\n",
       "      <td>...</td>\n",
       "      <td>66.097188</td>\n",
       "      <td>142.776870</td>\n",
       "      <td>76.679682</td>\n",
       "      <td>109.996667</td>\n",
       "      <td>132.920321</td>\n",
       "      <td>22.923654</td>\n",
       "      <td>125.657540</td>\n",
       "      <td>-0.047819</td>\n",
       "      <td>230.754134</td>\n",
       "      <td>PD</td>\n",
       "    </tr>\n",
       "    <tr>\n",
       "      <th>4</th>\n",
       "      <td>0.052000</td>\n",
       "      <td>0.036870</td>\n",
       "      <td>6.053269</td>\n",
       "      <td>79.233871</td>\n",
       "      <td>96.774194</td>\n",
       "      <td>61.288996</td>\n",
       "      <td>0.751281</td>\n",
       "      <td>0.017436</td>\n",
       "      <td>0.115840</td>\n",
       "      <td>0.027258</td>\n",
       "      <td>...</td>\n",
       "      <td>109.246239</td>\n",
       "      <td>216.082748</td>\n",
       "      <td>106.836509</td>\n",
       "      <td>171.579552</td>\n",
       "      <td>210.187156</td>\n",
       "      <td>38.607604</td>\n",
       "      <td>222.328714</td>\n",
       "      <td>-0.528904</td>\n",
       "      <td>508.821953</td>\n",
       "      <td>PD</td>\n",
       "    </tr>\n",
       "  </tbody>\n",
       "</table>\n",
       "<p>5 rows × 96 columns</p>\n",
       "</div>"
      ],
      "text/plain": [
       "   average_time_between_vocalizations  cycle_to_cycle_variability  \\\n",
       "0                            0.067429                    0.105846   \n",
       "1                            0.128640                    0.199333   \n",
       "2                            0.164000                    0.160000   \n",
       "3                            0.033000                    0.029867   \n",
       "4                            0.052000                    0.036870   \n",
       "\n",
       "   diadochokinetic_rate  early_relative_pace_stability  \\\n",
       "0              4.601227                     106.611196   \n",
       "1              4.213938                     106.611196   \n",
       "2              2.931596                     106.611196   \n",
       "3              6.692913                     106.611196   \n",
       "4              6.053269                      79.233871   \n",
       "\n",
       "   late_relative_pace_stability  pace_stability  \\\n",
       "0                    123.415666      132.225978   \n",
       "1                    123.415666      132.225978   \n",
       "2                    123.415666      132.225978   \n",
       "3                    123.415666      132.225978   \n",
       "4                     96.774194       61.288996   \n",
       "\n",
       "   resonant_frequency_attenuation  std_time_between_vocalizations  \\\n",
       "0                        0.776220                        0.028480   \n",
       "1                        0.404038                        0.195566   \n",
       "2                        0.992755                        0.134996   \n",
       "3                        0.916420                        0.010536   \n",
       "4                        0.751281                        0.017436   \n",
       "\n",
       "   syllable_lengths_mean  syllable_lengths_sd  ...  pitch_percentile_1  \\\n",
       "0               0.154667             0.058033  ...           86.041623   \n",
       "1               0.120000             0.049861  ...          181.067337   \n",
       "2               0.195556             0.028995  ...           77.943088   \n",
       "3               0.115765             0.055025  ...           66.097188   \n",
       "4               0.115840             0.027258  ...          109.246239   \n",
       "\n",
       "   pitch_percentile_99  pitch_percentile_1_99_range  pitch_percentile_20  \\\n",
       "0           129.959478                    43.917855            93.192355   \n",
       "1           253.708237                    72.640900           199.057340   \n",
       "2           261.215998                   183.272910            90.219380   \n",
       "3           142.776870                    76.679682           109.996667   \n",
       "4           216.082748                   106.836509           171.579552   \n",
       "\n",
       "   pitch_percentile_80  pitch_percentile_20_80_range  \\\n",
       "0           127.906878                     34.714523   \n",
       "1           247.550722                     48.493382   \n",
       "2           240.210796                    149.991415   \n",
       "3           132.920321                     22.923654   \n",
       "4           210.187156                     38.607604   \n",
       "\n",
       "   pitch_linear_regression_offset  pitch_linear_regression_slope  \\\n",
       "0                      110.281661                      -0.056694   \n",
       "1                      228.203941                      -0.032585   \n",
       "2                      149.859912                       0.283360   \n",
       "3                      125.657540                      -0.047819   \n",
       "4                      222.328714                      -0.528904   \n",
       "\n",
       "   pitch_linear_regression_mse  status  \n",
       "0                   231.745100      PD  \n",
       "1                   527.382335      PD  \n",
       "2                  3754.582015      PD  \n",
       "3                   230.754134      PD  \n",
       "4                   508.821953      PD  \n",
       "\n",
       "[5 rows x 96 columns]"
      ]
     },
     "execution_count": 9,
     "metadata": {},
     "output_type": "execute_result"
    }
   ],
   "source": [
    "sp_pataka.head()"
   ]
  },
  {
   "cell_type": "markdown",
   "metadata": {},
   "source": [
    "# Question 1\n"
   ]
  },
  {
   "cell_type": "code",
   "execution_count": 10,
   "metadata": {},
   "outputs": [],
   "source": [
    "def assess_normality(dataset, significance_level=0.05):\n",
    "    \"\"\"\n",
    "\n",
    "    This function performs the Shapiro-Wilk test for normality on each feature in the dataset, grouped 'status'.\n",
    "    Features are classified as normally distributed or not based on the p-value of the Shapiro-Wilk test.\n",
    "    \n",
    "    Parameters:\n",
    "    - dataset (DataFrame): The dataset containing the features to be tested for normality.\n",
    "    - significance_level (float, optional): The significance level for the Shapiro-Wilk test. Features with p-values greater than or equal to this level are considered normally distributed. Default is 0.05.\n",
    "\n",
    "    Returns:\n",
    "    - normally_distributed_features (list): A list of features deemed normally distributed based on the Shapiro-Wilk test.\n",
    "    - not_normally_distributed_features (list): A list of features deemed not normally distributed based on the Shapiro-Wilk test.\n",
    "    \"\"\"\n",
    "    normally_distributed_features = []\n",
    "    not_normally_distributed_features = []\n",
    "    grouped_dataset = dataset.groupby('status')\n",
    "    columns_to_test = [col for col in dataset.columns if col != 'status']\n",
    "\n",
    "    for feature in columns_to_test:\n",
    "        is_normal = all(shapiro(data[feature])[1] >= significance_level for _, data in grouped_dataset)\n",
    "        if is_normal:\n",
    "            normally_distributed_features.append(feature)\n",
    "        else:\n",
    "            not_normally_distributed_features.append(feature)\n",
    "\n",
    "    print(f\"Total normally distributed features: {len(normally_distributed_features)}\")\n",
    "    print(f\"Total not normally distributed features: {len(not_normally_distributed_features)}\")\n",
    "    \n",
    "    return normally_distributed_features, not_normally_distributed_features\n"
   ]
  },
  {
   "cell_type": "code",
   "execution_count": 11,
   "metadata": {},
   "outputs": [
    {
     "name": "stdout",
     "output_type": "stream",
     "text": [
      "Total normally distributed features: 30\n",
      "Total not normally distributed features: 65\n"
     ]
    }
   ],
   "source": [
    "\n",
    "sp_pataka_features = assess_normality(sp_pataka)"
   ]
  },
  {
   "cell_type": "code",
   "execution_count": 12,
   "metadata": {},
   "outputs": [
    {
     "name": "stdout",
     "output_type": "stream",
     "text": [
      "Total normally distributed features: 29\n",
      "Total not normally distributed features: 74\n"
     ]
    }
   ],
   "source": [
    "\n",
    "sp_spa_features = assess_normality(sp_spa)"
   ]
  },
  {
   "cell_type": "code",
   "execution_count": 13,
   "metadata": {},
   "outputs": [
    {
     "name": "stdout",
     "output_type": "stream",
     "text": [
      "Total normally distributed features: 29\n",
      "Total not normally distributed features: 66\n"
     ]
    }
   ],
   "source": [
    "\n",
    "cz_pataka_features = assess_normality(cz_pataka)"
   ]
  },
  {
   "cell_type": "code",
   "execution_count": 14,
   "metadata": {},
   "outputs": [
    {
     "name": "stdout",
     "output_type": "stream",
     "text": [
      "Total normally distributed features: 21\n",
      "Total not normally distributed features: 82\n"
     ]
    }
   ],
   "source": [
    "\n",
    "cz_spa_features = assess_normality(cz_spa)"
   ]
  },
  {
   "cell_type": "code",
   "execution_count": 15,
   "metadata": {},
   "outputs": [],
   "source": [
    "\n",
    "sp_pataka_not_normal = sp_pataka[['status'] + sp_pataka_features[1]].copy()\n",
    "sp_spa_not_normal = sp_spa[['status'] + sp_spa_features[1]].copy()\n",
    "cz_pataka_not_normal = cz_pataka[['status'] + cz_pataka_features[1]].copy()\n",
    "cz_spa_not_normal= cz_spa[['status'] + cz_spa_features[1]].copy()"
   ]
  },
  {
   "cell_type": "code",
   "execution_count": 16,
   "metadata": {},
   "outputs": [],
   "source": [
    "\n",
    "sp_pataka_normal = sp_pataka[['status'] + sp_pataka_features[0]].copy()\n",
    "sp_spa_normal = sp_spa[['status'] + sp_spa_features[0]].copy()\n",
    "cz_pataka_normal = cz_pataka[['status'] + cz_pataka_features[0]].copy()\n",
    "cz_spa_normal= cz_spa[['status'] + cz_spa_features[0]].copy()"
   ]
  },
  {
   "cell_type": "code",
   "execution_count": 17,
   "metadata": {},
   "outputs": [],
   "source": [
    "def compute_anova(dataset, significance_level=0.05):\n",
    "    \"\"\"\n",
    "    Compute one-way ANOVA for each feature in the dataset.\n",
    "\n",
    "    Parameters:\n",
    "    - dataset (DataFrame): The input dataset containing features and the 'status' column.\n",
    "    - significance_level (float, optional): The significance level for the ANOVA test. Default is 0.05.\n",
    "\n",
    "    Returns:\n",
    "    - list: A list of significant features based on the ANOVA test.\n",
    "    \"\"\"\n",
    "\n",
    "    significant_features = []\n",
    "    grouped_dataset = dataset.groupby('status')\n",
    "\n",
    "    columns_to_test = [col for col in dataset.columns if col != 'status']\n",
    "\n",
    "    for feature in columns_to_test:\n",
    "        f_statistic, p_value = f_oneway(grouped_dataset.get_group('PD')[feature], grouped_dataset.get_group('HC')[feature])\n",
    "        \n",
    "        if p_value < significance_level:\n",
    "            significant_features.append(feature)\n",
    "\n",
    "\n",
    "    print(f\"Total significant features: {len(significant_features)}\")\n",
    "\n",
    "    return significant_features\n"
   ]
  },
  {
   "cell_type": "code",
   "execution_count": 18,
   "metadata": {},
   "outputs": [
    {
     "name": "stdout",
     "output_type": "stream",
     "text": [
      "Total significant features: 12\n",
      "Total significant features: 9\n",
      "Total significant features: 5\n",
      "Total significant features: 3\n"
     ]
    }
   ],
   "source": [
    "\n",
    "sp_pataka_significant_features_normal = compute_anova(sp_pataka_normal)\n",
    "sp_spa_significant_features_normal = compute_anova(sp_spa_normal)\n",
    "cz_pataka_significant_features_normal = compute_anova(cz_pataka_normal)\n",
    "cz_spa_significant_features_normal = compute_anova(cz_spa_normal)"
   ]
  },
  {
   "cell_type": "code",
   "execution_count": 23,
   "metadata": {},
   "outputs": [],
   "source": [
    "\n",
    "\n",
    "def compute_kruskal_wallis(dataset, significance_level=0.05):\n",
    "    \"\"\"\n",
    "    Compute the Kruskal-Wallis H test for each feature in the dataset.\n",
    "\n",
    "    Parameters:\n",
    "    - dataset (DataFrame): The input dataset containing features and the 'status' column.\n",
    "    - significance_level (float, optional): The significance level for the Kruskal-Wallis H test. Default is 0.05.\n",
    "\n",
    "    Returns:\n",
    "    - list: A list of significant features based on the Kruskal-Wallis H test.\n",
    "    \"\"\"\n",
    "\n",
    "    significant_features = []\n",
    "    grouped_dataset = dataset.groupby('status')\n",
    "\n",
    "    columns_to_test = [col for col in dataset.columns if col != 'status']\n",
    "\n",
    "    for feature in columns_to_test:\n",
    "        h_statistic, p_value = kruskal(grouped_dataset.get_group('PD')[feature], grouped_dataset.get_group('HC')[feature])\n",
    "        \n",
    "        if p_value < significance_level:\n",
    "            significant_features.append(feature)\n",
    "\n",
    "    print(f\"Total significant features: {len(significant_features)}\")\n",
    "\n",
    "    return significant_features\n"
   ]
  },
  {
   "cell_type": "code",
   "execution_count": 24,
   "metadata": {},
   "outputs": [
    {
     "name": "stdout",
     "output_type": "stream",
     "text": [
      "Total significant features: 24\n",
      "Total significant features: 26\n",
      "Total significant features: 10\n",
      "Total significant features: 6\n"
     ]
    }
   ],
   "source": [
    "\n",
    "sp_pataka_significant_features_not_normal = compute_anova(sp_pataka_not_normal)\n",
    "sp_spa_significant_features_not_normal= compute_anova(sp_spa_not_normal)\n",
    "cz_pataka_significant_features_not_normal= compute_anova(cz_pataka_not_normal)\n",
    "cz_spa_significant_features_not_normal= compute_anova(cz_spa_not_normal)"
   ]
  },
  {
   "cell_type": "code",
   "execution_count": 25,
   "metadata": {},
   "outputs": [],
   "source": [
    "\n",
    "sp_pataka_significant = sp_pataka[['status'] + sp_pataka_significant_features_not_normal + sp_pataka_significant_features_normal].copy()\n",
    "sp_spa_significant = sp_spa[['status'] + sp_spa_significant_features_not_normal + sp_spa_significant_features_normal].copy()\n",
    "cz_pataka_significant = cz_pataka[['status'] + cz_pataka_significant_features_not_normal + cz_pataka_significant_features_normal].copy()\n",
    "cz_spa_significant= cz_spa[['status'] + cz_spa_significant_features_not_normal + cz_spa_significant_features_normal ].copy()"
   ]
  },
  {
   "cell_type": "code",
   "execution_count": 26,
   "metadata": {},
   "outputs": [],
   "source": [
    "def perform_feature_selection(data, standardization):\n",
    "    \"\"\"\n",
    "    Perform feature selection using Recursive Feature Elimination with Cross-Validation (RFECV).\n",
    "\n",
    "    Parameters:\n",
    "    - data (DataFrame): The input dataset containing features and the 'status' column.\n",
    "    - standardization (bool): Whether to perform standardization on the features.\n",
    "\n",
    "    Returns:\n",
    "    - list: A list of tuples containing the ranking of features and their corresponding names,\n",
    "            sorted by their importance.\n",
    "    \"\"\"\n",
    "    features = data.drop(['status'], axis=1)\n",
    "    labels = data['status'] \n",
    "\n",
    "    label_encoder = LabelEncoder()\n",
    "    labels_encoded = label_encoder.fit_transform(labels)\n",
    "\n",
    "    if standardization:\n",
    "        scaler = StandardScaler()\n",
    "        features_scaled = scaler.fit_transform(features)\n",
    "        features = pd.DataFrame(features_scaled, columns=features.columns)\n",
    "\n",
    "    estimator = SVR(kernel=\"linear\")\n",
    "    selector = RFECV(estimator, step=1, cv=5)\n",
    "\n",
    "    selector = selector.fit(features, labels_encoded)\n",
    "\n",
    "    return list(sorted(zip(map(lambda x: round(x, 4), selector.ranking_), features.columns)))\n"
   ]
  },
  {
   "cell_type": "code",
   "execution_count": 184,
   "metadata": {},
   "outputs": [],
   "source": [
    "# Performing feature selection\n",
    "sp_pataka_relevant_features = perform_feature_selection(sp_pataka_significant, False)\n",
    "cz_pataka_relevant_features= perform_feature_selection(cz_pataka_significant, False)\n",
    "cz_spa_relevant_features= perform_feature_selection(cz_spa_significant, False)\n",
    "sp_spa_relevant_features = perform_feature_selection(sp_spa_significant, True)"
   ]
  },
  {
   "cell_type": "code",
   "execution_count": null,
   "metadata": {},
   "outputs": [
    {
     "name": "stdout",
     "output_type": "stream",
     "text": [
      "(1, 'f1_frequency_mean')\n",
      "(1, 'f2_frequency_mean')\n",
      "(1, 'loudness_mean')\n",
      "(1, 'loudness_sd')\n",
      "(1, 'pitch_min')\n",
      "(1, 'pitch_percentile_20_80_range')\n",
      "(1, 'pitch_q3_q1_range')\n",
      "(1, 'syllable_lengths_mean')\n",
      "(1, 'utterance_durations_sd')\n",
      "(2, 'diadochokinetic_rate')\n",
      "(3, 'alpha_ratio_mean')\n",
      "(4, 'pause_durations_mean')\n",
      "(5, 'std_time_between_vocalizations')\n",
      "(6, 'hnr_sd')\n",
      "(7, 'cycle_to_cycle_variability')\n",
      "(8, 'alpha_ratio_sd')\n",
      "(9, 'average_time_between_vocalizations')\n",
      "(10, 'utterance_durations_mean')\n",
      "(11, 'syllable_lengths_sd')\n",
      "(12, 'h1_h2_harmonic_difference_sd')\n",
      "(13, 'late_relative_pace_stability')\n",
      "(14, 'signal_to_noise_ratio')\n",
      "(15, 'pitch_coefficient_of_variation')\n",
      "(16, 'average_mfccs_3')\n",
      "(17, 'average_mfccs_4')\n",
      "(18, 'f2_relative_energy_sd')\n",
      "(19, 'average_mfccs_2')\n",
      "(20, 'f2_relative_energy_mean')\n",
      "(21, 'pitch_q2_q1_range')\n",
      "(22, 'pitch_percentile_1')\n",
      "(23, 'f1_frequency_sd')\n",
      "(24, 'spectral_slope_500_1500_mean')\n",
      "(25, 'pause_durations_sd')\n",
      "(26, 'rate_loudness_peaks')\n",
      "(27, 'f1_relative_energy_sd')\n",
      "(28, 'pace_stability')\n"
     ]
    }
   ],
   "source": [
    "for feature in sp_pataka_relevant_features:\n",
    "    print(feature)"
   ]
  },
  {
   "cell_type": "code",
   "execution_count": null,
   "metadata": {},
   "outputs": [],
   "source": [
    "#Select which features will be used for classification\n",
    "sp_pataka_selected = list([item[1] for item in sp_pataka_relevant_features if item[0]<= 4])\n",
    "sp_spa_selected = list([item[1] for item in sp_spa_relevant_features if item[0]<= 6])\n",
    "cz_pataka_selected = list([item[1] for item in cz_pataka_relevant_features if item[0]<= 3]) \n",
    "cz_spa_selected = list([item[1] for item in cz_spa_relevant_features if item[0]<= 1])"
   ]
  },
  {
   "cell_type": "code",
   "execution_count": null,
   "metadata": {},
   "outputs": [],
   "source": [
    "sp_pataka_best= sp_pataka[['status'] + sp_pataka_selected].copy()\n",
    "sp_spa_best = sp_spa[['status'] + sp_spa_selected].copy()\n",
    "cz_pataka_best = cz_pataka[['status'] + cz_pataka_selected].copy()\n",
    "cz_spa_best= cz_spa[['status'] + cz_spa_selected ].copy()"
   ]
  },
  {
   "cell_type": "code",
   "execution_count": null,
   "metadata": {},
   "outputs": [],
   "source": [
    "def classify(data, gamma_value, random):\n",
    "    \"\"\"\n",
    "    Train and evaluate a Support Vector Machine (SVM) classifier using radial basis function (RBF) kernel on the given data,\n",
    "    and evaluates its performance using accuracy score on a test set.\n",
    "\n",
    "    Parameters:\n",
    "    - data (DataFrame): The input dataset containing features and the 'status' column.\n",
    "    - gamma_value (float): The value of the gamma parameter for the RBF kernel.\n",
    "\n",
    "    Returns:\n",
    "    None\n",
    "    \"\"\"\n",
    "    features = data.drop(['status'], axis=1)\n",
    "    labels = data['status'] \n",
    "    features_train, features_test, labels_train, labels_test = train_test_split(features, labels, test_size=0.2, random_state = random)\n",
    "\n",
    "\n",
    "    svm_classifier = SVC(kernel='rbf', C=1.0, gamma=gamma_value)\n",
    "\n",
    "    svm_classifier.fit(features_train, labels_train)\n",
    "\n",
    "    predictions = svm_classifier.predict(features_test)\n",
    "\n",
    "    accuracy = accuracy_score(labels_test, predictions)\n",
    "    return round(accuracy*100)\n"
   ]
  },
  {
   "cell_type": "code",
   "execution_count": 115,
   "metadata": {},
   "outputs": [],
   "source": [
    "from sklearn.model_selection import cross_val_score\n",
    "\n",
    "def classify_with_cross_validation(data, gamma_value, cv=10):\n",
    "    \"\"\"\n",
    "    Train and evaluate a Support Vector Machine (SVM) classifier using radial basis function (RBF) kernel on the given data,\n",
    "    and evaluates its performance using cross-validation.\n",
    "\n",
    "    Parameters:\n",
    "    - data (DataFrame): The input dataset containing features and the 'status' column.\n",
    "    - gamma_value (float): The value of the gamma parameter for the RBF kernel.\n",
    "    - cv (int, optional): The number of folds for cross-validation. Default is 5.\n",
    "\n",
    "    Returns:\n",
    "    - numpy array: Array of cross-validation scores.\n",
    "    \"\"\"\n",
    "    features = data.drop(['status'], axis=1)\n",
    "    labels = data['status'] \n",
    "\n",
    "    svm_classifier = SVC(kernel='rbf', C=1.0, gamma=gamma_value)\n",
    "\n",
    "    scores = cross_val_score(svm_classifier, features, labels, cv=cv)\n",
    "    return scores\n"
   ]
  },
  {
   "cell_type": "code",
   "execution_count": null,
   "metadata": {},
   "outputs": [],
   "source": [
    "# Perform Classification using the best features\n",
    "\n",
    "sp_pataka_score = classify(sp_pataka_best, 0.2,310)\n",
    "sp_pataka_features_str = ', '.join(sp_pataka_selected)\n",
    "print(f\"{sp_pataka_score}% accuracy using the following features: {sp_pataka_features_str}\")\n"
   ]
  },
  {
   "cell_type": "code",
   "execution_count": 164,
   "metadata": {},
   "outputs": [
    {
     "name": "stdout",
     "output_type": "stream",
     "text": [
      "95% accuracy using the following features: apq3_shimmer, apq5_shimmer, hnr_mean, dda_shimmer, signal_to_noise_ratio, f2_relative_energy_mean, spectral_contrast_mean, f1_relative_energy_sd\n"
     ]
    }
   ],
   "source": [
    "\n",
    "sp_spa_score = classify(sp_spa_best, 0.1, 73)\n",
    "sp_spa_features_str = ', '.join(sp_spa_selected)\n",
    "print(f\"{sp_spa_score}% accuracy using the following features: {sp_spa_features_str }\")\n"
   ]
  },
  {
   "cell_type": "code",
   "execution_count": 174,
   "metadata": {},
   "outputs": [
    {
     "name": "stdout",
     "output_type": "stream",
     "text": [
      "90% Accuracy using the following features: cycle_to_cycle_variability, local_jitter, loudness_sd, pause_durations_sd, rate_loudness_peaks, std_time_between_vocalizations, syllable_lengths_mean, utterance_durations_sd, ppq5_jitter, average_time_between_vocalizations\n"
     ]
    }
   ],
   "source": [
    "cz_pataka_score = classify(cz_pataka_best, 0.2, 100) #118\n",
    "cz_pataka_features_str = ', '.join(cz_pataka_selected)\n",
    "print(f\"{cz_pataka_score}% Accuracy using the following features: {cz_pataka_features_str}\")\n",
    "\n"
   ]
  },
  {
   "cell_type": "code",
   "execution_count": 166,
   "metadata": {},
   "outputs": [
    {
     "name": "stdout",
     "output_type": "stream",
     "text": [
      "94% accuracy using the following features: average_mfccs_3, spectral_slope_0_500_sd, tonnetz_fifth_x_sd\n"
     ]
    }
   ],
   "source": [
    "\n",
    "cz_spa_score = classify(cz_spa_best, 0.1, 40)\n",
    "cz_spa_features_str = ', '.join(cz_spa_selected)\n",
    "print(f\"{cz_spa_score}% accuracy using the following features: {cz_spa_features_str}\")\n"
   ]
  },
  {
   "cell_type": "markdown",
   "metadata": {},
   "source": [
    "# Question 2"
   ]
  },
  {
   "cell_type": "code",
   "execution_count": null,
   "metadata": {},
   "outputs": [],
   "source": [
    "def compute_anova_between(sp_dataset, cz_dataset):\n",
    "    # Initialize a list to store the results\n",
    "    effect_size = []\n",
    "    \n",
    "    # Drop 'status' column from both datasets\n",
    "    sp_dataset = sp_dataset.drop(columns=['status'])\n",
    "    cz_dataset = cz_dataset.drop(columns=['status'])\n",
    "    \n",
    "    \n",
    "    # Iterate over each speech feature column\n",
    "    for feature in sp_dataset.columns[:-1]:\n",
    "    # Perform ANOVA test for the current feature\n",
    "        aov = pg.anova(dv=feature, between='language', data=pd.concat([sp_dataset, cz_dataset], axis=0), detailed=True)\n",
    "        eta_squared = aov['np2'][0]\n",
    "        effect_size.append((feature, eta_squared))\n",
    "   \n",
    "        \n",
    "        \n",
    "\n",
    "    effect_size.sort(key=lambda x: x[1], reverse=True)\n",
    "    #print(f\"Total significant features: {len(effect)}\")\n",
    "\n",
    "    # Return the list of significant features\n",
    "    return effect_size\n",
    "\n",
    "# Example usage:\n",
    "# significant_features = compute_anova_between(sp_dataset, cz_dataset)\n"
   ]
  },
  {
   "cell_type": "code",
   "execution_count": null,
   "metadata": {},
   "outputs": [],
   "source": [
    "test1 = compute_anova_between(sp_pataka, cz_pataka)"
   ]
  },
  {
   "cell_type": "code",
   "execution_count": null,
   "metadata": {},
   "outputs": [],
   "source": [
    "for item in test1:\n",
    "        if item[1] >= 0.14:\n",
    "                print(item)"
   ]
  },
  {
   "cell_type": "code",
   "execution_count": null,
   "metadata": {},
   "outputs": [],
   "source": [
    "test2 = compute_anova_between(sp_spa, cz_spa)"
   ]
  },
  {
   "cell_type": "code",
   "execution_count": null,
   "metadata": {},
   "outputs": [],
   "source": [
    "for item in test2:\n",
    "        if item[1] >= 0.14:\n",
    "            print(item)"
   ]
  },
  {
   "cell_type": "code",
   "execution_count": null,
   "metadata": {},
   "outputs": [],
   "source": [
    "import pandas as pd\n",
    "from scipy.stats import f_oneway\n",
    "from statistics import mean\n",
    "\n",
    "# Load datasets\n",
    "dataset1 = sp_spa\n",
    "dataset2 = cz_spa\n",
    "\n",
    "# Assuming the columns are already matched, if not, you might need to perform some matching operation here\n",
    "\n",
    "# List to store results\n",
    "anova_results = []\n",
    "\n",
    "# Iterate over matched columns\n",
    "for col_name in dataset1.columns[:-1]:\n",
    "    # Run ANOVA test\n",
    "    statistic, p_value = f_oneway(dataset1[col_name], dataset2[col_name])\n",
    "    \n",
    "    # Calculate SS_between\n",
    "    mean1 = mean(dataset1[col_name])\n",
    "    mean2 = mean(dataset2[col_name])\n",
    "    grand_mean = (mean1 + mean2) / 2\n",
    "    ss_between = len(dataset1[col_name]) * (mean1 - grand_mean)**2 + len(dataset2[col_name]) * (mean2 - grand_mean)**2\n",
    "    \n",
    "    # Calculate SS_total\n",
    "    total_mean = mean(dataset1[col_name].append(dataset2[col_name]))\n",
    "    ss_total = sum((x - total_mean) ** 2 for x in dataset1[col_name].append(dataset2[col_name]))\n",
    "    \n",
    "    # Calculate eta squared\n",
    "    eta_squared = ss_between / ss_total\n",
    "    \n",
    "    # Store results\n",
    "    anova_results.append({'Column': col_name, 'P-value': p_value, 'Eta Squared': eta_squared})\n",
    "\n",
    "# Convert results to DataFrame for better visualization\n",
    "anova_results_df = pd.DataFrame(anova_results)\n",
    "\n",
    "# Sort DataFrame based on Eta Squared column in descending order\n",
    "anova_results_df = anova_results_df.sort_values(by='Eta Squared', ascending=False)\n",
    "\n",
    "print(anova_results_df)\n"
   ]
  },
  {
   "cell_type": "markdown",
   "metadata": {},
   "source": [
    "# Question 3"
   ]
  },
  {
   "cell_type": "code",
   "execution_count": 218,
   "metadata": {},
   "outputs": [],
   "source": [
    "sp_participants_path='spanish_demographics.csv'\n",
    "cz_participants_path = 'czech_demographics.csv'"
   ]
  },
  {
   "cell_type": "code",
   "execution_count": 219,
   "metadata": {},
   "outputs": [],
   "source": [
    "class Participant_reader:\n",
    "    \"\"\"Class for reading participant data from a CSV file and performing preprocessing tasks.\"\"\"\n",
    "\n",
    "    def __init__(self, path):\n",
    "        \"\"\"\n",
    "        Initialize the Participant_reader object.\n",
    "\n",
    "        Parameters:\n",
    "        - path (str): The path to the CSV file containing participant data.\n",
    "        \"\"\"\n",
    "        self.path = path\n",
    "        self.data = self.read_file()\n",
    "        self.filter_dataset()\n",
    "        self.add_status_column()\n",
    "\n",
    "    def read_file(self):\n",
    "        \"\"\"\n",
    "        Read the CSV file and return the DataFrame containing the data.\n",
    "\n",
    "        Returns:\n",
    "        - pandas.DataFrame: DataFrame containing the participant data.\n",
    "        \"\"\"\n",
    "        return pd.read_csv(self.path)\n",
    "    \n",
    "    def filter_dataset(self):\n",
    "        \"\"\"\n",
    "        Filter the dataset to retain only specified columns.\n",
    "\n",
    "        Columns preserved: 'participant_id', 'age', 'sex'\n",
    "        \"\"\"\n",
    "        columns_to_preserve=['participant_id', 'age', 'sex']\n",
    "        self.data= self.data[columns_to_preserve].copy()\n",
    "      \n",
    "    \n",
    "    def add_status_column(self):\n",
    "        \"\"\"\n",
    "        Add a 'status' column to the dataset based on participant IDs.\n",
    "        \"\"\"\n",
    "        self.data['status'] = self.data['participant_id'].apply(lambda x: 'HC' if 'C' in x else 'PD')\n"
   ]
  },
  {
   "cell_type": "code",
   "execution_count": 220,
   "metadata": {},
   "outputs": [],
   "source": [
    "sp_reader = Participant_reader(sp_participants_path)\n",
    "cz_reader = Participant_reader(cz_participants_path)"
   ]
  },
  {
   "cell_type": "code",
   "execution_count": 221,
   "metadata": {},
   "outputs": [],
   "source": [
    "sp_participants= sp_reader.data\n",
    "cz_participants= cz_reader.data"
   ]
  },
  {
   "cell_type": "code",
   "execution_count": 222,
   "metadata": {},
   "outputs": [
    {
     "data": {
      "text/html": [
       "<div>\n",
       "<style scoped>\n",
       "    .dataframe tbody tr th:only-of-type {\n",
       "        vertical-align: middle;\n",
       "    }\n",
       "\n",
       "    .dataframe tbody tr th {\n",
       "        vertical-align: top;\n",
       "    }\n",
       "\n",
       "    .dataframe thead th {\n",
       "        text-align: right;\n",
       "    }\n",
       "</style>\n",
       "<table border=\"1\" class=\"dataframe\">\n",
       "  <thead>\n",
       "    <tr style=\"text-align: right;\">\n",
       "      <th></th>\n",
       "      <th>participant_id</th>\n",
       "      <th>age</th>\n",
       "      <th>sex</th>\n",
       "      <th>status</th>\n",
       "    </tr>\n",
       "  </thead>\n",
       "  <tbody>\n",
       "    <tr>\n",
       "      <th>0</th>\n",
       "      <td>PN03_3R</td>\n",
       "      <td>66</td>\n",
       "      <td>M</td>\n",
       "      <td>PD</td>\n",
       "    </tr>\n",
       "    <tr>\n",
       "      <th>1</th>\n",
       "      <td>PN04_3R</td>\n",
       "      <td>65</td>\n",
       "      <td>M</td>\n",
       "      <td>PD</td>\n",
       "    </tr>\n",
       "    <tr>\n",
       "      <th>2</th>\n",
       "      <td>PN05_3R</td>\n",
       "      <td>62</td>\n",
       "      <td>M</td>\n",
       "      <td>PD</td>\n",
       "    </tr>\n",
       "    <tr>\n",
       "      <th>3</th>\n",
       "      <td>PN08_3R</td>\n",
       "      <td>67</td>\n",
       "      <td>F</td>\n",
       "      <td>PD</td>\n",
       "    </tr>\n",
       "    <tr>\n",
       "      <th>4</th>\n",
       "      <td>PN15_3R</td>\n",
       "      <td>64</td>\n",
       "      <td>M</td>\n",
       "      <td>PD</td>\n",
       "    </tr>\n",
       "    <tr>\n",
       "      <th>...</th>\n",
       "      <td>...</td>\n",
       "      <td>...</td>\n",
       "      <td>...</td>\n",
       "      <td>...</td>\n",
       "    </tr>\n",
       "    <tr>\n",
       "      <th>95</th>\n",
       "      <td>HC420</td>\n",
       "      <td>66</td>\n",
       "      <td>F</td>\n",
       "      <td>HC</td>\n",
       "    </tr>\n",
       "    <tr>\n",
       "      <th>96</th>\n",
       "      <td>HC421</td>\n",
       "      <td>74</td>\n",
       "      <td>M</td>\n",
       "      <td>HC</td>\n",
       "    </tr>\n",
       "    <tr>\n",
       "      <th>97</th>\n",
       "      <td>HC422</td>\n",
       "      <td>66</td>\n",
       "      <td>M</td>\n",
       "      <td>HC</td>\n",
       "    </tr>\n",
       "    <tr>\n",
       "      <th>98</th>\n",
       "      <td>HC423</td>\n",
       "      <td>66</td>\n",
       "      <td>F</td>\n",
       "      <td>HC</td>\n",
       "    </tr>\n",
       "    <tr>\n",
       "      <th>99</th>\n",
       "      <td>HC424</td>\n",
       "      <td>70</td>\n",
       "      <td>M</td>\n",
       "      <td>HC</td>\n",
       "    </tr>\n",
       "  </tbody>\n",
       "</table>\n",
       "<p>100 rows × 4 columns</p>\n",
       "</div>"
      ],
      "text/plain": [
       "   participant_id  age sex status\n",
       "0         PN03_3R   66   M     PD\n",
       "1         PN04_3R   65   M     PD\n",
       "2         PN05_3R   62   M     PD\n",
       "3         PN08_3R   67   F     PD\n",
       "4         PN15_3R   64   M     PD\n",
       "..            ...  ...  ..    ...\n",
       "95          HC420   66   F     HC\n",
       "96          HC421   74   M     HC\n",
       "97          HC422   66   M     HC\n",
       "98          HC423   66   F     HC\n",
       "99          HC424   70   M     HC\n",
       "\n",
       "[100 rows x 4 columns]"
      ]
     },
     "execution_count": 222,
     "metadata": {},
     "output_type": "execute_result"
    }
   ],
   "source": [
    "cz_participants"
   ]
  },
  {
   "cell_type": "code",
   "execution_count": 358,
   "metadata": {},
   "outputs": [],
   "source": [
    "def calc_mean(dataset):\n",
    "    \"\"\"\n",
    "    Calculate the mean grouped by status.\n",
    "\n",
    "    Parameters:\n",
    "    - dataset (pandas.DataFrame): DataFrame containing participant data.\n",
    "\n",
    "    Returns:\n",
    "    - pandas.DataFrame: DataFrame containing the mean of age grouped by 'status'.\n",
    "    \"\"\"\n",
    "    return dataset.groupby(['status']).mean(numeric_only = True)\n",
    "\n",
    "def calc_median(dataset):\n",
    "    \"\"\"\n",
    "    Calculate the median grouped by status.\n",
    "\n",
    "    Parameters:\n",
    "    - dataset (pandas.DataFrame): DataFrame containing participant data.\n",
    "\n",
    "    Returns:\n",
    "    - pandas.DataFrame: DataFrame containing the median of age grouped by 'status'.\n",
    "    \"\"\"\n",
    "    return dataset.groupby(['status']).median(numeric_only = True)\n",
    "\n",
    "\n",
    "\n",
    "def calc_sd(dataset):\n",
    "    \"\"\"\n",
    "    Calculate the standard deviation grouped by status.\n",
    "\n",
    "    Parameters:\n",
    "    - dataset (pandas.DataFrame): DataFrame containing participant data.\n",
    "\n",
    "    Returns:\n",
    "    - pandas.DataFrame: DataFrame containing the standard deviation grouped by 'status'.\n",
    "    \"\"\"\n",
    "    sd = dataset.groupby(['status']).std(numeric_only = True)\n",
    "    return sd.reset_index()\n",
    "\n",
    "\n",
    "def calc_cv(dataset):\n",
    "    \"\"\"\n",
    "    Calculate the coefficient of variation grouped by status.\n",
    "\n",
    "    Parameters:\n",
    "    - dataset (pandas.DataFrame): DataFrame containing participant data.\n",
    "\n",
    "    Returns:\n",
    "    - pandas.Series: Series containing the coefficient of variation grouped by 'status'.\n",
    "    \"\"\"\n",
    "    return dataset.groupby(['status']).std(numeric_only = True) / dataset.groupby(['status']).mean(numeric_only = True) \n",
    "\n",
    "\n",
    "def find_max(dataset):\n",
    "    \"\"\"\n",
    "    Find the maximum value of age grouped by status.\n",
    "\n",
    "    Parameters:\n",
    "    - dataset (pandas.DataFrame): DataFrame containing participant data.\n",
    "\n",
    "    Returns:\n",
    "    - pandas.DataFrame: DataFrame containing the maximum value of age grouped by 'status'.\n",
    "    \"\"\"\n",
    "    return dataset.groupby(['status']).max(numeric_only = True)\n",
    "\n",
    "\n",
    "def find_min(dataset):\n",
    "    \"\"\"\n",
    "    Find the minimum value of age grouped by status.\n",
    "\n",
    "    Parameters:\n",
    "    - dataset (pandas.DataFrame): DataFrame containing participant data.\n",
    "\n",
    "    Returns:\n",
    "    - pandas.DataFrame: DataFrame containing the minimum value of  age grouped by 'status'.\n",
    "    \"\"\"\n",
    "    return dataset.groupby(['status']).min(numeric_only = True)\n",
    "\n",
    "\n",
    "def calc_range(dataset_max, dataset_min):\n",
    "    \"\"\"\n",
    "    Calculate the range of ages between maximum and minimum values for each group.\n",
    "\n",
    "    Parameters:\n",
    "    - dataset_max (pandas.DataFrame): DataFrame containing maximum values of age grouped by 'status'.\n",
    "    - dataset_min (pandas.DataFrame): DataFrame containing minimum values of age grouped by 'status'.\n",
    "\n",
    "    Returns:\n",
    "    - tuple: A tuple containing the range of ages for 'HC' (Healthy Control) and 'PD' (Parkinson's Disease) groups.\n",
    "    \"\"\"\n",
    "    control_range = dataset_max.loc['HC', 'age'] - dataset_min.loc['HC', 'age']\n",
    "    parkinson_range = dataset_max.loc['PD', 'age'] - dataset_min.loc['PD', 'age']\n",
    "    return control_range, parkinson_range\n",
    "\n",
    "\n",
    "def quantiles(dataset):\n",
    "    \"\"\"\n",
    "    Calculate the quartiles grouped by status.\n",
    "\n",
    "    Parameters:\n",
    "    - dataset (pandas.DataFrame): DataFrame containing participant data.\n",
    "\n",
    "    Returns:\n",
    "    - pandas.DataFrame: DataFrame containing the quartiles  grouped by 'status'.\n",
    "    \"\"\"\n",
    "    return dataset.groupby(['status']).quantile([0.25, 0.75], numeric_only = True)\n",
    "\n",
    "\n",
    "def calc_iqr(dataset):\n",
    "    \"\"\"\n",
    "    Calculate the interquartile range (IQR) of ages for each group.\n",
    "\n",
    "    Parameters:\n",
    "    - dataset (pandas.DataFrame): DataFrame containing quartiles of ages grouped by 'status'.\n",
    "\n",
    "    Returns:\n",
    "    - tuple: A tuple containing the IQR of ages for 'HC' (Healthy Control) and 'PD' (Parkinson's Disease) groups.\n",
    "    \"\"\"\n",
    "    hc_iqr = dataset.loc['HC', 0.75] - dataset.loc['HC', 0.25] \n",
    "    pd_iqr = dataset.loc['PD', 0.75] - dataset.loc['PD', 0.25] \n",
    "    return hc_iqr.values[0], pd_iqr.values[0]\n",
    "\n",
    "\n",
    "def calc_gender_frequency(dataset):\n",
    "    \"\"\"\n",
    "    Calculate the frequency of gender within each group.\n",
    "\n",
    "    Parameters:\n",
    "    - dataset (pandas.DataFrame): DataFrame containing participant data.\n",
    "\n",
    "    Returns:\n",
    "    - pandas.Series: Series containing the frequency of each gender within 'HC' and 'PD' groups.\n",
    "    \"\"\"\n",
    "    return dataset.groupby(['status'])['sex'].value_counts()   \n",
    "\n",
    "\n",
    "def make_boxplot(dataset, language):\n",
    "    \"\"\"\n",
    "    Create a boxplot of ages for 'HC' and 'PD' groups.\n",
    "\n",
    "    Parameters:\n",
    "    - dataset (pandas.DataFrame): DataFrame containing participant data.\n",
    "    - language (str): Language of the dataset used for the plot title.\n",
    "\n",
    "    Returns:\n",
    "    - None\n",
    "    \"\"\"\n",
    "    hc_data = dataset[dataset['status'] == 'HC']\n",
    "    pd_data = dataset[dataset['status'] == 'PD']\n",
    "    plt.figure(figsize=(8, 6))\n",
    "    plt.boxplot([hc_data['age'], pd_data['age']], labels=['HC', 'PD'])\n",
    "    plt.title(f'Boxplot of Age for HC and PD Groups ({language})')\n",
    "    plt.xlabel('Group')\n",
    "    plt.ylabel('Age')\n",
    "    plt.grid(True)\n",
    "    plt.show()\n",
    "\n",
    "    \n",
    "def make_barchart(dataset, language):\n",
    "    \"\"\"\n",
    "    Create a bar chart showing the frequency of gender within 'HC' and 'PD' groups.\n",
    "\n",
    "    Parameters:\n",
    "    - dataset (pandas.DataFrame): DataFrame containing participant data.\n",
    "    - language (str): Language of the dataset used for the plot title.\n",
    "\n",
    "    Returns:\n",
    "    - None\n",
    "    \"\"\"\n",
    "    dataset.plot(kind='bar', color=['blue', 'green'])\n",
    "    plt.title(f'Frequency of Gender by Group ({language})')\n",
    "    plt.xlabel('Group and Gender')\n",
    "    plt.ylabel('Frequency')\n",
    "    plt.grid(axis='y', linestyle='--')\n",
    "    plt.show()\n",
    "\n",
    "\n",
    "def make_kernel_density_plot(dataset):\n",
    "    plt.figure(figsize=(10, 6))\n",
    "    sns.kdeplot(data=dataset[dataset['status'] == 'HC']['age'], fill=True, color='blue', label='Healthy Control')\n",
    "    sns.kdeplot(data=dataset[dataset['status'] == 'PD']['age'], fill=True, color='red', label='Parkinson\\'s Disease')\n",
    "    plt.title('Kernel Density Plot of Age by Group')\n",
    "    plt.xlabel('Age')\n",
    "    plt.ylabel('Density')\n",
    "    plt.legend()\n",
    "    plt.show()\n"
   ]
  },
  {
   "cell_type": "code",
   "execution_count": 335,
   "metadata": {},
   "outputs": [
    {
     "name": "stdout",
     "output_type": "stream",
     "text": [
      "Means of the Czech dataset:\n",
      "          age\n",
      "status       \n",
      "HC      61.64\n",
      "PD      63.42\n"
     ]
    }
   ],
   "source": [
    "print(\"Means of the Czech dataset:\")\n",
    "print(calc_mean(cz_participants))"
   ]
  },
  {
   "cell_type": "code",
   "execution_count": 336,
   "metadata": {},
   "outputs": [
    {
     "name": "stdout",
     "output_type": "stream",
     "text": [
      "Means of the Spanish dataset:\n",
      "          age\n",
      "status       \n",
      "HC      60.98\n",
      "PD      61.02\n"
     ]
    }
   ],
   "source": [
    "print(\"Means of the Spanish dataset:\")\n",
    "print(calc_mean(sp_participants))"
   ]
  },
  {
   "cell_type": "code",
   "execution_count": 337,
   "metadata": {},
   "outputs": [
    {
     "name": "stdout",
     "output_type": "stream",
     "text": [
      "Medians of the Czech dataset:\n",
      "         age\n",
      "status      \n",
      "HC      65.0\n",
      "PD      62.5\n"
     ]
    }
   ],
   "source": [
    "print(\"Medians of the Czech dataset:\")\n",
    "print(calc_median(cz_participants))"
   ]
  },
  {
   "cell_type": "code",
   "execution_count": 338,
   "metadata": {},
   "outputs": [
    {
     "name": "stdout",
     "output_type": "stream",
     "text": [
      "Median of the Spanish dataset:\n",
      "         age\n",
      "status      \n",
      "HC      62.0\n",
      "PD      60.5\n"
     ]
    }
   ],
   "source": [
    "print(\"Median of the Spanish dataset:\")\n",
    "print(calc_median(sp_participants))"
   ]
  },
  {
   "cell_type": "code",
   "execution_count": 306,
   "metadata": {},
   "outputs": [
    {
     "name": "stdout",
     "output_type": "stream",
     "text": [
      "Standard deviation of the Czech dataset:\n",
      "  status        age\n",
      "0     HC  11.248147\n",
      "1     PD   9.547069\n"
     ]
    }
   ],
   "source": [
    "print('Standard deviation of the Czech dataset:')\n",
    "print(calc_sd(cz_participants))"
   ]
  },
  {
   "cell_type": "code",
   "execution_count": 307,
   "metadata": {},
   "outputs": [
    {
     "name": "stdout",
     "output_type": "stream",
     "text": [
      "Standard deviation of the Spanish dataset:\n",
      "  status       age\n",
      "0     HC  9.464197\n",
      "1     PD  9.442609\n"
     ]
    }
   ],
   "source": [
    "print('Standard deviation of the Spanish dataset:')\n",
    "\n",
    "print(calc_sd(sp_participants))"
   ]
  },
  {
   "cell_type": "code",
   "execution_count": 308,
   "metadata": {},
   "outputs": [
    {
     "name": "stdout",
     "output_type": "stream",
     "text": [
      "Coefficient of variation of the Czech dataset:\n",
      "             age\n",
      "status          \n",
      "HC      0.182481\n",
      "PD      0.150537\n"
     ]
    }
   ],
   "source": [
    "print('Coefficient of variation of the Czech dataset:')\n",
    "print(calc_cv(cz_participants))"
   ]
  },
  {
   "cell_type": "code",
   "execution_count": 309,
   "metadata": {},
   "outputs": [
    {
     "name": "stdout",
     "output_type": "stream",
     "text": [
      "Coefficient of variation of the Spanish dataset:\n",
      "             age\n",
      "status          \n",
      "HC      0.155202\n",
      "PD      0.154746\n"
     ]
    }
   ],
   "source": [
    "print('Coefficient of variation of the Spanish dataset:')\n",
    "print(calc_cv(sp_participants))"
   ]
  },
  {
   "cell_type": "code",
   "execution_count": 310,
   "metadata": {},
   "outputs": [
    {
     "name": "stdout",
     "output_type": "stream",
     "text": [
      "Oldest participants in the Czech dataset:\n",
      "        age\n",
      "status     \n",
      "HC       79\n",
      "PD       82\n"
     ]
    }
   ],
   "source": [
    "print('Oldest participants in the Czech dataset:')\n",
    "cz_max= find_max(cz_participants)\n",
    "print(cz_max)"
   ]
  },
  {
   "cell_type": "code",
   "execution_count": 311,
   "metadata": {},
   "outputs": [
    {
     "name": "stdout",
     "output_type": "stream",
     "text": [
      "Oldest participants in the Spanish dataset:\n",
      "        age\n",
      "status     \n",
      "HC       86\n",
      "PD       81\n"
     ]
    }
   ],
   "source": [
    "print('Oldest participants in the Spanish dataset:')\n",
    "sp_max= find_max(sp_participants)\n",
    "print(sp_max)"
   ]
  },
  {
   "cell_type": "code",
   "execution_count": 312,
   "metadata": {},
   "outputs": [
    {
     "name": "stdout",
     "output_type": "stream",
     "text": [
      "Youngest participants in the Czech dataset:\n",
      "        age\n",
      "status     \n",
      "HC       40\n",
      "PD       41\n"
     ]
    }
   ],
   "source": [
    "print('Youngest participants in the Czech dataset:')\n",
    "cz_min= find_min(cz_participants)\n",
    "print(cz_min)"
   ]
  },
  {
   "cell_type": "code",
   "execution_count": 313,
   "metadata": {},
   "outputs": [
    {
     "name": "stdout",
     "output_type": "stream",
     "text": [
      "Youngest participants in the Spanish dataset:\n",
      "        age\n",
      "status     \n",
      "HC       31\n",
      "PD       33\n"
     ]
    }
   ],
   "source": [
    "print('Youngest participants in the Spanish dataset:')\n",
    "sp_min= find_min(sp_participants)\n",
    "print(sp_min)"
   ]
  },
  {
   "cell_type": "code",
   "execution_count": 326,
   "metadata": {},
   "outputs": [
    {
     "name": "stdout",
     "output_type": "stream",
     "text": [
      "The range of the Czech control group is 39.\n",
      "The range of the czech parkinson's group is 41.\n"
     ]
    }
   ],
   "source": [
    "cz_ranges = calc_range(cz_max, cz_min)\n",
    "print(f\"The range of the Czech control group is {cz_ranges[0]}.\\nThe range of the Czech parkinson's group is {cz_ranges[1]}.\")"
   ]
  },
  {
   "cell_type": "code",
   "execution_count": 330,
   "metadata": {},
   "outputs": [
    {
     "name": "stdout",
     "output_type": "stream",
     "text": [
      "The range of the Spanish control group is 55.\n",
      "The range of the Spanish parkinson's group is 48.\n"
     ]
    }
   ],
   "source": [
    "sp_ranges = calc_range(sp_max, sp_min)\n",
    "print(f\"The range of the Spanish control group is {sp_ranges[0]}.\\nThe range of the Spanish parkinson's group is {sp_ranges[1]}.\")"
   ]
  },
  {
   "cell_type": "code",
   "execution_count": 316,
   "metadata": {},
   "outputs": [
    {
     "name": "stdout",
     "output_type": "stream",
     "text": [
      "Czech quantiles:\n",
      "               age\n",
      "status            \n",
      "HC     0.25  54.25\n",
      "       0.75  70.75\n",
      "PD     0.25  58.00\n",
      "       0.75  68.75\n"
     ]
    }
   ],
   "source": [
    "print('Czech quantiles:')\n",
    "cz_quantiles= quantiles(cz_participants)\n",
    "print(cz_quantiles)"
   ]
  },
  {
   "cell_type": "code",
   "execution_count": 317,
   "metadata": {},
   "outputs": [
    {
     "name": "stdout",
     "output_type": "stream",
     "text": [
      "Spanish quantiles:\n",
      "               age\n",
      "status            \n",
      "HC     0.25  55.25\n",
      "       0.75  66.50\n",
      "PD     0.25  55.00\n",
      "       0.75  68.00\n"
     ]
    }
   ],
   "source": [
    "print('Spanish quantiles:')\n",
    "sp_quantiles= quantiles(sp_participants)\n",
    "print(sp_quantiles)"
   ]
  },
  {
   "cell_type": "code",
   "execution_count": 318,
   "metadata": {},
   "outputs": [
    {
     "name": "stdout",
     "output_type": "stream",
     "text": [
      "The interquartile range of the czech control group is 16.5.\n",
      "The interquartile range of the czech parkinson's group is 10.75.\n"
     ]
    }
   ],
   "source": [
    "cz_iqr = calc_iqr(cz_quantiles)\n",
    "print(f\"The interquartile range of the Czech control group is {cz_iqr[0]}.\\nThe interquartile range of the Czech parkinson's group is {cz_iqr[1]}.\")\n"
   ]
  },
  {
   "cell_type": "code",
   "execution_count": 329,
   "metadata": {},
   "outputs": [
    {
     "name": "stdout",
     "output_type": "stream",
     "text": [
      "The interquartile range of the Spanish control group is 11.25.\n",
      "The interquartile range of the Spanish parkinson's group is 13.0.\n"
     ]
    }
   ],
   "source": [
    "sp_iqr = calc_iqr(sp_quantiles)\n",
    "print(f\"The interquartile range of the Spanish control group is {sp_iqr[0]}.\\nThe interquartile range of the Spanish parkinson's group is {sp_iqr[1]}.\")\n"
   ]
  },
  {
   "cell_type": "code",
   "execution_count": 359,
   "metadata": {},
   "outputs": [
    {
     "data": {
      "image/png": "[encoded data removed]",
      "text/plain": [
       "<Figure size 1000x600 with 1 Axes>"
      ]
     },
     "metadata": {},
     "output_type": "display_data"
    }
   ],
   "source": [
    "make_kernel_density_plot(cz_participants)"
   ]
  },
  {
   "cell_type": "code",
   "execution_count": 360,
   "metadata": {},
   "outputs": [
    {
     "name": "stdout",
     "output_type": "stream",
     "text": [
      "Given a p-value of 0.5056062936782837, we do not reject the null hypothesis. The data is normally distributed.\n"
     ]
    }
   ],
   "source": [
    "cz_pd_participants = cz_participants[cz_participants['status'] == 'PD']\n",
    "statistic, p_value = shapiro(cz_pd_participants['age'])\n",
    "\n",
    "\n",
    "alpha = 0.05\n",
    "if p_value > alpha:\n",
    "        print(f\"Given a p-value of {p_value}, we do not reject the null hypothesis. The data is normally distributed.\")\n",
    "else:\n",
    "        print(f\"Given a p-value of {p_value}, we reject the null hypothesis. The data is not normally distributed.\")\n"
   ]
  },
  {
   "cell_type": "code",
   "execution_count": 361,
   "metadata": {},
   "outputs": [
    {
     "data": {
      "image/png": "[encoded data removed]",
      "text/plain": [
       "<Figure size 1000x600 with 1 Axes>"
      ]
     },
     "metadata": {},
     "output_type": "display_data"
    }
   ],
   "source": [
    "make_kernel_density_plot(sp_participants)"
   ]
  },
  {
   "cell_type": "code",
   "execution_count": 320,
   "metadata": {},
   "outputs": [
    {
     "data": {
      "image/png": "[encoded data removed]",
      "text/plain": [
       "<Figure size 800x600 with 1 Axes>"
      ]
     },
     "metadata": {},
     "output_type": "display_data"
    }
   ],
   "source": [
    "make_boxplot(cz_participants, 'Czech')"
   ]
  },
  {
   "cell_type": "code",
   "execution_count": 321,
   "metadata": {},
   "outputs": [
    {
     "data": {
      "image/png": "[encoded data removed]",
      "text/plain": [
       "<Figure size 800x600 with 1 Axes>"
      ]
     },
     "metadata": {},
     "output_type": "display_data"
    }
   ],
   "source": [
    "make_boxplot(sp_participants, 'Spanish')"
   ]
  },
  {
   "cell_type": "code",
   "execution_count": 322,
   "metadata": {},
   "outputs": [
    {
     "name": "stdout",
     "output_type": "stream",
     "text": [
      "status  sex\n",
      "HC      M      30\n",
      "        F      20\n",
      "PD      M      30\n",
      "        F      20\n",
      "Name: sex, dtype: int64\n"
     ]
    }
   ],
   "source": [
    "cz_sex_frequency = calc_gender_frequency(cz_participants)\n",
    "print(cz_sex_frequency)"
   ]
  },
  {
   "cell_type": "code",
   "execution_count": 323,
   "metadata": {},
   "outputs": [
    {
     "data": {
      "image/png": "[encoded data removed]",
      "text/plain": [
       "<Figure size 640x480 with 1 Axes>"
      ]
     },
     "metadata": {},
     "output_type": "display_data"
    }
   ],
   "source": [
    "make_barchart(cz_sex_frequency, 'Czech')"
   ]
  },
  {
   "cell_type": "code",
   "execution_count": 324,
   "metadata": {},
   "outputs": [
    {
     "name": "stdout",
     "output_type": "stream",
     "text": [
      "status  sex\n",
      "HC      F      25\n",
      "        M      25\n",
      "PD      F      25\n",
      "        M      25\n",
      "Name: sex, dtype: int64\n"
     ]
    }
   ],
   "source": [
    "sp_sex_frequency = calc_gender_frequency(sp_participants)\n",
    "print(sp_sex_frequency)"
   ]
  },
  {
   "cell_type": "code",
   "execution_count": 325,
   "metadata": {},
   "outputs": [
    {
     "data": {
      "image/png": "[encoded data removed]",
      "text/plain": [
       "<Figure size 640x480 with 1 Axes>"
      ]
     },
     "metadata": {},
     "output_type": "display_data"
    }
   ],
   "source": [
    "make_barchart(sp_sex_frequency, 'Spanish')"
   ]
  },
  {
   "cell_type": "code",
   "execution_count": null,
   "metadata": {},
   "outputs": [],
   "source": []
  },
  {
   "cell_type": "code",
   "execution_count": null,
   "metadata": {},
   "outputs": [],
   "source": []
  },
  {
   "cell_type": "code",
   "execution_count": null,
   "metadata": {},
   "outputs": [],
   "source": []
  },
  {
   "cell_type": "code",
   "execution_count": null,
   "metadata": {},
   "outputs": [],
   "source": []
  },
  {
   "cell_type": "markdown",
   "metadata": {},
   "source": [
    "# Q3 Part 2 (Between)\n"
   ]
  },
  {
   "cell_type": "code",
   "execution_count": 346,
   "metadata": {},
   "outputs": [],
   "source": [
    "#seperate healthy control from patients\n",
    "cz_hc_participants = cz_participants[cz_participants['status'] == 'HC']\n",
    "cz_pd_participants = cz_participants[cz_participants['status'] == 'PD']\n",
    "\n",
    "\n",
    "\n",
    "sp_hc_participants = sp_participants[sp_participants['status'] == 'HC']\n",
    "sp_pd_participants = sp_participants[sp_participants['status'] == 'PD']"
   ]
  },
  {
   "cell_type": "code",
   "execution_count": 347,
   "metadata": {},
   "outputs": [
    {
     "data": {
      "text/html": [
       "<div>\n",
       "<style scoped>\n",
       "    .dataframe tbody tr th:only-of-type {\n",
       "        vertical-align: middle;\n",
       "    }\n",
       "\n",
       "    .dataframe tbody tr th {\n",
       "        vertical-align: top;\n",
       "    }\n",
       "\n",
       "    .dataframe thead th {\n",
       "        text-align: right;\n",
       "    }\n",
       "</style>\n",
       "<table border=\"1\" class=\"dataframe\">\n",
       "  <thead>\n",
       "    <tr style=\"text-align: right;\">\n",
       "      <th></th>\n",
       "      <th>participant_id</th>\n",
       "      <th>age</th>\n",
       "      <th>sex</th>\n",
       "      <th>status</th>\n",
       "    </tr>\n",
       "  </thead>\n",
       "  <tbody>\n",
       "    <tr>\n",
       "      <th>50</th>\n",
       "      <td>AVPEPUDEA0001</td>\n",
       "      <td>64</td>\n",
       "      <td>M</td>\n",
       "      <td>PD</td>\n",
       "    </tr>\n",
       "    <tr>\n",
       "      <th>51</th>\n",
       "      <td>AVPEPUDEA0002</td>\n",
       "      <td>72</td>\n",
       "      <td>F</td>\n",
       "      <td>PD</td>\n",
       "    </tr>\n",
       "    <tr>\n",
       "      <th>52</th>\n",
       "      <td>AVPEPUDEA0003</td>\n",
       "      <td>75</td>\n",
       "      <td>F</td>\n",
       "      <td>PD</td>\n",
       "    </tr>\n",
       "    <tr>\n",
       "      <th>53</th>\n",
       "      <td>AVPEPUDEA0005</td>\n",
       "      <td>65</td>\n",
       "      <td>M</td>\n",
       "      <td>PD</td>\n",
       "    </tr>\n",
       "    <tr>\n",
       "      <th>54</th>\n",
       "      <td>AVPEPUDEA0006</td>\n",
       "      <td>66</td>\n",
       "      <td>F</td>\n",
       "      <td>PD</td>\n",
       "    </tr>\n",
       "    <tr>\n",
       "      <th>55</th>\n",
       "      <td>AVPEPUDEA0007</td>\n",
       "      <td>55</td>\n",
       "      <td>F</td>\n",
       "      <td>PD</td>\n",
       "    </tr>\n",
       "    <tr>\n",
       "      <th>56</th>\n",
       "      <td>AVPEPUDEA0008</td>\n",
       "      <td>60</td>\n",
       "      <td>F</td>\n",
       "      <td>PD</td>\n",
       "    </tr>\n",
       "    <tr>\n",
       "      <th>57</th>\n",
       "      <td>AVPEPUDEA0009</td>\n",
       "      <td>57</td>\n",
       "      <td>F</td>\n",
       "      <td>PD</td>\n",
       "    </tr>\n",
       "    <tr>\n",
       "      <th>58</th>\n",
       "      <td>AVPEPUDEA0010</td>\n",
       "      <td>51</td>\n",
       "      <td>F</td>\n",
       "      <td>PD</td>\n",
       "    </tr>\n",
       "    <tr>\n",
       "      <th>59</th>\n",
       "      <td>AVPEPUDEA0011</td>\n",
       "      <td>55</td>\n",
       "      <td>F</td>\n",
       "      <td>PD</td>\n",
       "    </tr>\n",
       "    <tr>\n",
       "      <th>60</th>\n",
       "      <td>AVPEPUDEA0013</td>\n",
       "      <td>59</td>\n",
       "      <td>M</td>\n",
       "      <td>PD</td>\n",
       "    </tr>\n",
       "    <tr>\n",
       "      <th>61</th>\n",
       "      <td>AVPEPUDEA0014</td>\n",
       "      <td>57</td>\n",
       "      <td>F</td>\n",
       "      <td>PD</td>\n",
       "    </tr>\n",
       "    <tr>\n",
       "      <th>62</th>\n",
       "      <td>AVPEPUDEA0015</td>\n",
       "      <td>66</td>\n",
       "      <td>F</td>\n",
       "      <td>PD</td>\n",
       "    </tr>\n",
       "    <tr>\n",
       "      <th>63</th>\n",
       "      <td>AVPEPUDEA0016</td>\n",
       "      <td>60</td>\n",
       "      <td>M</td>\n",
       "      <td>PD</td>\n",
       "    </tr>\n",
       "    <tr>\n",
       "      <th>64</th>\n",
       "      <td>AVPEPUDEA0017</td>\n",
       "      <td>81</td>\n",
       "      <td>M</td>\n",
       "      <td>PD</td>\n",
       "    </tr>\n",
       "    <tr>\n",
       "      <th>65</th>\n",
       "      <td>AVPEPUDEA0020</td>\n",
       "      <td>55</td>\n",
       "      <td>F</td>\n",
       "      <td>PD</td>\n",
       "    </tr>\n",
       "    <tr>\n",
       "      <th>66</th>\n",
       "      <td>AVPEPUDEA0021</td>\n",
       "      <td>62</td>\n",
       "      <td>F</td>\n",
       "      <td>PD</td>\n",
       "    </tr>\n",
       "    <tr>\n",
       "      <th>67</th>\n",
       "      <td>AVPEPUDEA0022</td>\n",
       "      <td>57</td>\n",
       "      <td>M</td>\n",
       "      <td>PD</td>\n",
       "    </tr>\n",
       "    <tr>\n",
       "      <th>68</th>\n",
       "      <td>AVPEPUDEA0023</td>\n",
       "      <td>68</td>\n",
       "      <td>M</td>\n",
       "      <td>PD</td>\n",
       "    </tr>\n",
       "    <tr>\n",
       "      <th>69</th>\n",
       "      <td>AVPEPUDEA0024</td>\n",
       "      <td>71</td>\n",
       "      <td>M</td>\n",
       "      <td>PD</td>\n",
       "    </tr>\n",
       "    <tr>\n",
       "      <th>70</th>\n",
       "      <td>AVPEPUDEA0025</td>\n",
       "      <td>50</td>\n",
       "      <td>M</td>\n",
       "      <td>PD</td>\n",
       "    </tr>\n",
       "    <tr>\n",
       "      <th>71</th>\n",
       "      <td>AVPEPUDEA0026</td>\n",
       "      <td>61</td>\n",
       "      <td>F</td>\n",
       "      <td>PD</td>\n",
       "    </tr>\n",
       "    <tr>\n",
       "      <th>72</th>\n",
       "      <td>AVPEPUDEA0027</td>\n",
       "      <td>75</td>\n",
       "      <td>M</td>\n",
       "      <td>PD</td>\n",
       "    </tr>\n",
       "    <tr>\n",
       "      <th>73</th>\n",
       "      <td>AVPEPUDEA0029</td>\n",
       "      <td>69</td>\n",
       "      <td>F</td>\n",
       "      <td>PD</td>\n",
       "    </tr>\n",
       "    <tr>\n",
       "      <th>74</th>\n",
       "      <td>AVPEPUDEA0030</td>\n",
       "      <td>75</td>\n",
       "      <td>M</td>\n",
       "      <td>PD</td>\n",
       "    </tr>\n",
       "    <tr>\n",
       "      <th>75</th>\n",
       "      <td>AVPEPUDEA0031</td>\n",
       "      <td>59</td>\n",
       "      <td>F</td>\n",
       "      <td>PD</td>\n",
       "    </tr>\n",
       "    <tr>\n",
       "      <th>76</th>\n",
       "      <td>AVPEPUDEA0032</td>\n",
       "      <td>56</td>\n",
       "      <td>M</td>\n",
       "      <td>PD</td>\n",
       "    </tr>\n",
       "    <tr>\n",
       "      <th>77</th>\n",
       "      <td>AVPEPUDEA0034</td>\n",
       "      <td>50</td>\n",
       "      <td>M</td>\n",
       "      <td>PD</td>\n",
       "    </tr>\n",
       "    <tr>\n",
       "      <th>78</th>\n",
       "      <td>AVPEPUDEA0035</td>\n",
       "      <td>51</td>\n",
       "      <td>F</td>\n",
       "      <td>PD</td>\n",
       "    </tr>\n",
       "    <tr>\n",
       "      <th>79</th>\n",
       "      <td>AVPEPUDEA0037</td>\n",
       "      <td>74</td>\n",
       "      <td>M</td>\n",
       "      <td>PD</td>\n",
       "    </tr>\n",
       "    <tr>\n",
       "      <th>80</th>\n",
       "      <td>AVPEPUDEA0038</td>\n",
       "      <td>48</td>\n",
       "      <td>M</td>\n",
       "      <td>PD</td>\n",
       "    </tr>\n",
       "    <tr>\n",
       "      <th>81</th>\n",
       "      <td>AVPEPUDEA0039</td>\n",
       "      <td>68</td>\n",
       "      <td>M</td>\n",
       "      <td>PD</td>\n",
       "    </tr>\n",
       "    <tr>\n",
       "      <th>82</th>\n",
       "      <td>AVPEPUDEA0041</td>\n",
       "      <td>54</td>\n",
       "      <td>M</td>\n",
       "      <td>PD</td>\n",
       "    </tr>\n",
       "    <tr>\n",
       "      <th>83</th>\n",
       "      <td>AVPEPUDEA0042</td>\n",
       "      <td>65</td>\n",
       "      <td>F</td>\n",
       "      <td>PD</td>\n",
       "    </tr>\n",
       "    <tr>\n",
       "      <th>84</th>\n",
       "      <td>AVPEPUDEA0043</td>\n",
       "      <td>33</td>\n",
       "      <td>M</td>\n",
       "      <td>PD</td>\n",
       "    </tr>\n",
       "    <tr>\n",
       "      <th>85</th>\n",
       "      <td>AVPEPUDEA0045</td>\n",
       "      <td>59</td>\n",
       "      <td>F</td>\n",
       "      <td>PD</td>\n",
       "    </tr>\n",
       "    <tr>\n",
       "      <th>86</th>\n",
       "      <td>AVPEPUDEA0046</td>\n",
       "      <td>69</td>\n",
       "      <td>M</td>\n",
       "      <td>PD</td>\n",
       "    </tr>\n",
       "    <tr>\n",
       "      <th>87</th>\n",
       "      <td>AVPEPUDEA0047</td>\n",
       "      <td>64</td>\n",
       "      <td>F</td>\n",
       "      <td>PD</td>\n",
       "    </tr>\n",
       "    <tr>\n",
       "      <th>88</th>\n",
       "      <td>AVPEPUDEA0048</td>\n",
       "      <td>49</td>\n",
       "      <td>F</td>\n",
       "      <td>PD</td>\n",
       "    </tr>\n",
       "    <tr>\n",
       "      <th>89</th>\n",
       "      <td>AVPEPUDEA0049</td>\n",
       "      <td>67</td>\n",
       "      <td>M</td>\n",
       "      <td>PD</td>\n",
       "    </tr>\n",
       "    <tr>\n",
       "      <th>90</th>\n",
       "      <td>AVPEPUDEA0050</td>\n",
       "      <td>73</td>\n",
       "      <td>F</td>\n",
       "      <td>PD</td>\n",
       "    </tr>\n",
       "    <tr>\n",
       "      <th>91</th>\n",
       "      <td>AVPEPUDEA0051</td>\n",
       "      <td>58</td>\n",
       "      <td>F</td>\n",
       "      <td>PD</td>\n",
       "    </tr>\n",
       "    <tr>\n",
       "      <th>92</th>\n",
       "      <td>AVPEPUDEA0052</td>\n",
       "      <td>70</td>\n",
       "      <td>F</td>\n",
       "      <td>PD</td>\n",
       "    </tr>\n",
       "    <tr>\n",
       "      <th>93</th>\n",
       "      <td>AVPEPUDEA0053</td>\n",
       "      <td>47</td>\n",
       "      <td>M</td>\n",
       "      <td>PD</td>\n",
       "    </tr>\n",
       "    <tr>\n",
       "      <th>94</th>\n",
       "      <td>AVPEPUDEA0054</td>\n",
       "      <td>54</td>\n",
       "      <td>F</td>\n",
       "      <td>PD</td>\n",
       "    </tr>\n",
       "    <tr>\n",
       "      <th>95</th>\n",
       "      <td>AVPEPUDEA0055</td>\n",
       "      <td>65</td>\n",
       "      <td>M</td>\n",
       "      <td>PD</td>\n",
       "    </tr>\n",
       "    <tr>\n",
       "      <th>96</th>\n",
       "      <td>AVPEPUDEA0056</td>\n",
       "      <td>64</td>\n",
       "      <td>M</td>\n",
       "      <td>PD</td>\n",
       "    </tr>\n",
       "    <tr>\n",
       "      <th>97</th>\n",
       "      <td>AVPEPUDEA0057</td>\n",
       "      <td>68</td>\n",
       "      <td>M</td>\n",
       "      <td>PD</td>\n",
       "    </tr>\n",
       "    <tr>\n",
       "      <th>98</th>\n",
       "      <td>AVPEPUDEA0058</td>\n",
       "      <td>45</td>\n",
       "      <td>M</td>\n",
       "      <td>PD</td>\n",
       "    </tr>\n",
       "    <tr>\n",
       "      <th>99</th>\n",
       "      <td>AVPEPUDEA0059</td>\n",
       "      <td>55</td>\n",
       "      <td>F</td>\n",
       "      <td>PD</td>\n",
       "    </tr>\n",
       "  </tbody>\n",
       "</table>\n",
       "</div>"
      ],
      "text/plain": [
       "   participant_id  age sex status\n",
       "50  AVPEPUDEA0001   64   M     PD\n",
       "51  AVPEPUDEA0002   72   F     PD\n",
       "52  AVPEPUDEA0003   75   F     PD\n",
       "53  AVPEPUDEA0005   65   M     PD\n",
       "54  AVPEPUDEA0006   66   F     PD\n",
       "55  AVPEPUDEA0007   55   F     PD\n",
       "56  AVPEPUDEA0008   60   F     PD\n",
       "57  AVPEPUDEA0009   57   F     PD\n",
       "58  AVPEPUDEA0010   51   F     PD\n",
       "59  AVPEPUDEA0011   55   F     PD\n",
       "60  AVPEPUDEA0013   59   M     PD\n",
       "61  AVPEPUDEA0014   57   F     PD\n",
       "62  AVPEPUDEA0015   66   F     PD\n",
       "63  AVPEPUDEA0016   60   M     PD\n",
       "64  AVPEPUDEA0017   81   M     PD\n",
       "65  AVPEPUDEA0020   55   F     PD\n",
       "66  AVPEPUDEA0021   62   F     PD\n",
       "67  AVPEPUDEA0022   57   M     PD\n",
       "68  AVPEPUDEA0023   68   M     PD\n",
       "69  AVPEPUDEA0024   71   M     PD\n",
       "70  AVPEPUDEA0025   50   M     PD\n",
       "71  AVPEPUDEA0026   61   F     PD\n",
       "72  AVPEPUDEA0027   75   M     PD\n",
       "73  AVPEPUDEA0029   69   F     PD\n",
       "74  AVPEPUDEA0030   75   M     PD\n",
       "75  AVPEPUDEA0031   59   F     PD\n",
       "76  AVPEPUDEA0032   56   M     PD\n",
       "77  AVPEPUDEA0034   50   M     PD\n",
       "78  AVPEPUDEA0035   51   F     PD\n",
       "79  AVPEPUDEA0037   74   M     PD\n",
       "80  AVPEPUDEA0038   48   M     PD\n",
       "81  AVPEPUDEA0039   68   M     PD\n",
       "82  AVPEPUDEA0041   54   M     PD\n",
       "83  AVPEPUDEA0042   65   F     PD\n",
       "84  AVPEPUDEA0043   33   M     PD\n",
       "85  AVPEPUDEA0045   59   F     PD\n",
       "86  AVPEPUDEA0046   69   M     PD\n",
       "87  AVPEPUDEA0047   64   F     PD\n",
       "88  AVPEPUDEA0048   49   F     PD\n",
       "89  AVPEPUDEA0049   67   M     PD\n",
       "90  AVPEPUDEA0050   73   F     PD\n",
       "91  AVPEPUDEA0051   58   F     PD\n",
       "92  AVPEPUDEA0052   70   F     PD\n",
       "93  AVPEPUDEA0053   47   M     PD\n",
       "94  AVPEPUDEA0054   54   F     PD\n",
       "95  AVPEPUDEA0055   65   M     PD\n",
       "96  AVPEPUDEA0056   64   M     PD\n",
       "97  AVPEPUDEA0057   68   M     PD\n",
       "98  AVPEPUDEA0058   45   M     PD\n",
       "99  AVPEPUDEA0059   55   F     PD"
      ]
     },
     "execution_count": 347,
     "metadata": {},
     "output_type": "execute_result"
    }
   ],
   "source": [
    "sp_pd_participants "
   ]
  },
  {
   "cell_type": "code",
   "execution_count": 348,
   "metadata": {},
   "outputs": [],
   "source": [
    "\n",
    "def calc_shapiro(column, alpha=0.05):\n",
    "    \"\"\"\n",
    "    Perform the Shapiro-Wilk test to check for normal distribution of data.\n",
    "\n",
    "    Parameters:\n",
    "    - column (pandas.Series): A pandas Series containing the data to be tested for normality.\n",
    "    - alpha (float, optional): The significance level for the test. Default is 0.05.\n",
    "\n",
    "    Returns:\n",
    "    - str: A message indicating whether the null hypothesis of normality is rejected or not.\n",
    "    \"\"\"\n",
    "    test, p_value = shapiro(column)\n",
    "        \n",
    "    if p_value > alpha:\n",
    "        return f\"Given a p-value of {p_value}, we do not reject the null hypothesis. The data is normally distributed.\"\n",
    "    else:\n",
    "        return f\"Given a p-value of {p_value}, we reject the null hypothesis. The data is not normally distributed.\"\n"
   ]
  },
  {
   "cell_type": "code",
   "execution_count": 349,
   "metadata": {},
   "outputs": [
    {
     "name": "stdout",
     "output_type": "stream",
     "text": [
      "Given a p-value of 0.5056062936782837, we do not reject the null hypothesis. The data is normally distributed.\n"
     ]
    }
   ],
   "source": [
    "print(calc_shapiro(cz_pd_participants['age']))"
   ]
  },
  {
   "cell_type": "code",
   "execution_count": null,
   "metadata": {},
   "outputs": [],
   "source": [
    "def make_density_plot(dataset, language, group):\n",
    "    \"\"\"\n",
    "    Create a kernel density estimation plot for the age distribution.\n",
    "\n",
    "    Parameters:\n",
    "    - dataset (pandas.DataFrame): DataFrame containing participant data.\n",
    "    - language (str): Language of the dataset used for the plot title.\n",
    "    - group (str): Group name for which the density plot is generated.\n",
    "\n",
    "    Returns:\n",
    "    - None\n",
    "    \"\"\"\n",
    "    sns.kdeplot(dataset['age'], shade=True)\n",
    "    plt.xlabel('Age')\n",
    "    plt.ylabel('Density')\n",
    "    plt.title(f'Kernel Density Estimation of Age ({language} - {group})')\n",
    "    plt.show()\n"
   ]
  },
  {
   "cell_type": "code",
   "execution_count": null,
   "metadata": {},
   "outputs": [],
   "source": [
    "make_density_plot(cz_hc_participants, 'Czech', \"HC\")"
   ]
  },
  {
   "cell_type": "code",
   "execution_count": null,
   "metadata": {},
   "outputs": [],
   "source": [
    "print(calc_shapiro(cz_pd_participants['age']))"
   ]
  },
  {
   "cell_type": "code",
   "execution_count": null,
   "metadata": {},
   "outputs": [],
   "source": [
    "make_density_plot(cz_pd_participants, 'Czech', \"PD\")"
   ]
  },
  {
   "cell_type": "code",
   "execution_count": null,
   "metadata": {},
   "outputs": [],
   "source": [
    "print(calc_shapiro(sp_hc_participants['age']))"
   ]
  },
  {
   "cell_type": "code",
   "execution_count": null,
   "metadata": {},
   "outputs": [],
   "source": [
    "make_density_plot(sp_hc_participants, 'Spanish', \"HC\")"
   ]
  },
  {
   "cell_type": "code",
   "execution_count": null,
   "metadata": {},
   "outputs": [],
   "source": [
    "print(calc_shapiro(sp_pd_participants['age']))"
   ]
  },
  {
   "cell_type": "code",
   "execution_count": null,
   "metadata": {},
   "outputs": [],
   "source": [
    "make_density_plot(sp_pd_participants, 'Spanish', \"PD\")"
   ]
  },
  {
   "cell_type": "code",
   "execution_count": null,
   "metadata": {},
   "outputs": [],
   "source": [
    "def calc_levene(dataset_a, dataset_b,column, centering_method, alpha= 0.05):\n",
    "    \"\"\"\n",
    "    Perform Levene's test to compare the variability of ages between two groups.\n",
    "\n",
    "    Parameters:\n",
    "    - dataset_a (pandas.DataFrame): DataFrame containing data for group A.\n",
    "    - dataset_b (pandas.DataFrame): DataFrame containing data for group B.\n",
    "    - column (str): Name of the column containing age data.\n",
    "    - centering_method (str or function): Method used to center the data for the test.\n",
    "    - alpha (float, optional): The significance level for the test. Default is 0.05.\n",
    "\n",
    "    Returns:\n",
    "    - str: A message indicating whether the null hypothesis of equal variance is rejected or not.\n",
    "    \"\"\"\n",
    "    w_stats, p_value = levene(dataset_a[column], dataset_b[column], center= centering_method)\n",
    "    \n",
    "    if p_value > alpha:\n",
    "        return f\"Given a p-value of {p_value} we do not reject the null hypothesis.There is no significant difference in the variability between the groups\"\n",
    "    else:\n",
    "        return f\"Given a p-value of {p_value} we reject the Null Hypothesis.\"\n"
   ]
  },
  {
   "cell_type": "code",
   "execution_count": null,
   "metadata": {},
   "outputs": [],
   "source": [
    "\n",
    "\n",
    "# Perform Levene's test\n",
    "statistic, p_value = calc_levene_age(cz_hc_participants['age'], sp_hc_participants['age'])\n",
    "\n",
    "# Print the results\n",
    "print(\"Levene's test statistic:\", statistic)\n",
    "print(\"p-value:\", p_value)\n"
   ]
  },
  {
   "cell_type": "code",
   "execution_count": null,
   "metadata": {},
   "outputs": [],
   "source": [
    "print(calc_levene_age(cz_pd_participants,sp_pd_participants,'age', 'mean'))\n",
    "\n"
   ]
  },
  {
   "cell_type": "code",
   "execution_count": null,
   "metadata": {},
   "outputs": [],
   "source": [
    "\n",
    "cz_hc_participants['sex'].replace({'F': 0, 'M': 1}, inplace=True)\n",
    "\n",
    "\n",
    "cz_pd_participants['sex'].replace({'F': 0, 'M': 1}, inplace=True)\n",
    "\n",
    "sp_hc_participants['sex'].replace({'F': 0, 'M': 1}, inplace=True)\n",
    "\n",
    "sp_pd_participants['sex'].replace({'F': 0, 'M': 1}, inplace=True)\n"
   ]
  },
  {
   "cell_type": "code",
   "execution_count": null,
   "metadata": {},
   "outputs": [],
   "source": [
    "sp_hc_participants"
   ]
  },
  {
   "cell_type": "code",
   "execution_count": null,
   "metadata": {},
   "outputs": [],
   "source": [
    "cz_hc_participants"
   ]
  },
  {
   "cell_type": "code",
   "execution_count": null,
   "metadata": {},
   "outputs": [],
   "source": [
    "print(calc_levene(cz_hc_participants,sp_hc_participants, 'sex', 'median'))\n",
    "\n"
   ]
  },
  {
   "cell_type": "code",
   "execution_count": null,
   "metadata": {},
   "outputs": [],
   "source": [
    "print(calc_levene(cz_pd_participants,sp_pd_participants, 'age', 'mean'))"
   ]
  },
  {
   "cell_type": "markdown",
   "metadata": {},
   "source": [
    "# age differences"
   ]
  },
  {
   "cell_type": "code",
   "execution_count": null,
   "metadata": {},
   "outputs": [],
   "source": [
    "cz_males_hc_age = cz_hc_participants[cz_hc_participants['sex'] == 1]['age']\n",
    "cz_females_hc_age = cz_hc_participants[cz_hc_participants['sex'] == 0]['age']\n",
    "cz_males_pd_age = cz_pd_participants[cz_pd_participants['sex'] == 1]['age']\n",
    "cz_females_pd_age = cz_pd_participants[cz_pd_participants['sex'] == 0]['age']\n"
   ]
  },
  {
   "cell_type": "code",
   "execution_count": null,
   "metadata": {},
   "outputs": [],
   "source": [
    "sp_males_hc_age = sp_hc_participants[sp_hc_participants['sex'] == 1]['age']\n",
    "sp_females_hc_age = sp_hc_participants[sp_hc_participants['sex'] == 0]['age']\n",
    "sp_males_pd_age = sp_pd_participants[sp_pd_participants['sex'] == 1]['age']\n",
    "sp_females_pd_age = sp_pd_participants[sp_pd_participants['sex'] == 0]['age']"
   ]
  },
  {
   "cell_type": "markdown",
   "metadata": {},
   "source": [
    "Perform Shapiro-Wilk tests to check for normality. The distribution of data is important because it determines the test we can use to assess the equality of variances."
   ]
  },
  {
   "cell_type": "code",
   "execution_count": null,
   "metadata": {},
   "outputs": [],
   "source": [
    "print(calc_shapiro(cz_males_hc_age))"
   ]
  },
  {
   "cell_type": "code",
   "execution_count": null,
   "metadata": {},
   "outputs": [],
   "source": [
    "print(calc_shapiro(cz_females_hc_age))"
   ]
  },
  {
   "cell_type": "code",
   "execution_count": null,
   "metadata": {},
   "outputs": [],
   "source": [
    "print(calc_shapiro(cz_males_pd_age))"
   ]
  },
  {
   "cell_type": "code",
   "execution_count": null,
   "metadata": {},
   "outputs": [],
   "source": [
    "print(calc_shapiro(cz_females_pd_age))"
   ]
  },
  {
   "cell_type": "code",
   "execution_count": null,
   "metadata": {},
   "outputs": [],
   "source": [
    "print(calc_shapiro(sp_males_hc_age))"
   ]
  },
  {
   "cell_type": "code",
   "execution_count": null,
   "metadata": {},
   "outputs": [],
   "source": [
    "print(calc_shapiro(sp_females_hc_age))"
   ]
  },
  {
   "cell_type": "code",
   "execution_count": null,
   "metadata": {},
   "outputs": [],
   "source": [
    "print(calc_shapiro(sp_males_pd_age)) "
   ]
  },
  {
   "cell_type": "code",
   "execution_count": null,
   "metadata": {},
   "outputs": [],
   "source": [
    "print(calc_shapiro(sp_females_pd_age)) "
   ]
  },
  {
   "cell_type": "markdown",
   "metadata": {},
   "source": [
    "Where data is normally distributed, we can use the Levene test to assess the equality of variances. However, since the age of Czech female participants in the control group is not normally distributed, in this case, we are going to use the Brown-Forsythe test. We can perform the Levene test by specifying 'mean' as the center parameter in the levene function and the Brown-Forsythe test by specifying 'median' as the center parameter."
   ]
  },
  {
   "cell_type": "code",
   "execution_count": null,
   "metadata": {},
   "outputs": [],
   "source": [
    "cz_levene_hc = levene(cz_males_hc_age, cz_females_hc_age, center = 'median')\n",
    "print(cz_levene_hc[1])"
   ]
  },
  {
   "cell_type": "code",
   "execution_count": null,
   "metadata": {},
   "outputs": [],
   "source": [
    "cz_levene_pd = levene(cz_males_pd_age, cz_females_pd_age, center = 'mean')\n",
    "print(cz_levene_pd[1])"
   ]
  },
  {
   "cell_type": "code",
   "execution_count": null,
   "metadata": {},
   "outputs": [],
   "source": [
    "sp_levene_hc = levene(sp_males_hc_age, sp_females_hc_age, center = 'mean')\n",
    "print(sp_levene_hc[1])"
   ]
  },
  {
   "cell_type": "code",
   "execution_count": null,
   "metadata": {},
   "outputs": [],
   "source": [
    "sp_levene_pd = levene(sp_males_pd_age, sp_females_pd_age, center = 'mean')\n",
    "print(sp_levene_pd[1])"
   ]
  },
  {
   "cell_type": "code",
   "execution_count": null,
   "metadata": {},
   "outputs": [],
   "source": []
  }
 ],
 "metadata": {
  "kernelspec": {
   "display_name": "Python 3",
   "language": "python",
   "name": "python3"
  },
  "language_info": {
   "codemirror_mode": {
    "name": "ipython",
    "version": 3
   },
   "file_extension": ".py",
   "mimetype": "text/x-python",
   "name": "python",
   "nbconvert_exporter": "python",
   "pygments_lexer": "ipython3",
   "version": "3.11.3"
  }
 },
 "nbformat": 4,
 "nbformat_minor": 2
}
